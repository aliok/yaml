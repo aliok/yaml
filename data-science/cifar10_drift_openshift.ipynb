{
 "cells": [
  {
   "cell_type": "code",
   "execution_count": 1,
   "metadata": {},
   "outputs": [
    {
     "name": "stdout",
     "output_type": "stream",
     "text": [
      "Error from server (AlreadyExists): namespaces \"kserve-demo\" already exists\r\n"
     ]
    }
   ],
   "source": [
    "!kubectl create namespace kserve-demo\n"
   ]
  },
  {
   "cell_type": "code",
   "execution_count": 2,
   "metadata": {},
   "outputs": [
    {
     "name": "stdout",
     "output_type": "stream",
     "text": [
      "clusterrole.rbac.authorization.k8s.io/system:openshift:scc:anyuid added: \"default\"\n"
     ]
    }
   ],
   "source": [
    "%%bash\n",
    "# same as https://github.com/ReToCode/knative-kserve\n",
    "oc adm policy add-scc-to-user anyuid -z default -n kserve-demo"
   ]
  },
  {
   "cell_type": "code",
   "execution_count": 3,
   "metadata": {},
   "outputs": [
    {
     "name": "stdout",
     "output_type": "stream",
     "text": [
      "broker.eventing.knative.dev/default created\n"
     ]
    }
   ],
   "source": [
    "%%bash\n",
    "\n",
    "cat <<EOF | oc apply -f -\n",
    "apiVersion: eventing.knative.dev/v1\n",
    "kind: broker\n",
    "metadata:\n",
    "  name: default\n",
    "  namespace: kserve-demo\n",
    "EOF"
   ]
  },
  {
   "cell_type": "code",
   "execution_count": 4,
   "metadata": {},
   "outputs": [
    {
     "name": "stdout",
     "output_type": "stream",
     "text": [
      "deployment.apps/hello-display created\n"
     ]
    }
   ],
   "source": [
    "%%bash\n",
    "\n",
    "cat <<EOF | oc apply -f -\n",
    "apiVersion: apps/v1\n",
    "kind: Deployment\n",
    "metadata:\n",
    "  name: hello-display\n",
    "  namespace: kserve-demo\n",
    "spec:\n",
    "  replicas: 1\n",
    "  selector:\n",
    "    matchLabels: &labels\n",
    "      app: hello-display\n",
    "  template:\n",
    "    metadata:\n",
    "      labels: *labels\n",
    "    spec:\n",
    "      containers:\n",
    "        - name: event-display\n",
    "          image: gcr.io/knative-releases/knative.dev/eventing-contrib/cmd/event_display\n",
    "EOF"
   ]
  },
  {
   "cell_type": "code",
   "execution_count": 5,
   "metadata": {},
   "outputs": [
    {
     "name": "stdout",
     "output_type": "stream",
     "text": [
      "NAME            READY   UP-TO-DATE   AVAILABLE   AGE\n",
      "hello-display   0/1     1            0           3s\n"
     ]
    }
   ],
   "source": [
    "%%bash\n",
    "\n",
    "oc get deployments -n kserve-demo"
   ]
  },
  {
   "cell_type": "code",
   "execution_count": 6,
   "metadata": {},
   "outputs": [
    {
     "name": "stdout",
     "output_type": "stream",
     "text": [
      "service/hello-display created\n"
     ]
    }
   ],
   "source": [
    "%%bash\n",
    "\n",
    "cat <<EOF | oc apply -f -\n",
    "kind: Service\n",
    "apiVersion: v1\n",
    "metadata:\n",
    "  name: hello-display\n",
    "  namespace: kserve-demo\n",
    "spec:\n",
    "  selector:\n",
    "    app: hello-display\n",
    "  ports:\n",
    "  - protocol: TCP\n",
    "    port: 80\n",
    "    targetPort: 8080\n",
    "EOF"
   ]
  },
  {
   "cell_type": "code",
   "execution_count": 7,
   "metadata": {},
   "outputs": [
    {
     "name": "stdout",
     "output_type": "stream",
     "text": [
      "NAME            TYPE        CLUSTER-IP       EXTERNAL-IP   PORT(S)   AGE\n",
      "hello-display   ClusterIP   172.30.226.200   <none>        80/TCP    3s\n"
     ]
    }
   ],
   "source": [
    "%%bash\n",
    "\n",
    "oc get svc -n kserve-demo hello-display"
   ]
  },
  {
   "cell_type": "code",
   "execution_count": 8,
   "metadata": {},
   "outputs": [
    {
     "name": "stdout",
     "output_type": "stream",
     "text": [
      "inferenceservice.serving.kserve.io/tfserving-cifar10 created\n"
     ]
    }
   ],
   "source": [
    "%%bash\n",
    "\n",
    "cat <<EOF | oc apply -f -\n",
    "apiVersion: \"serving.kserve.io/v1beta1\"\n",
    "kind: \"InferenceService\"\n",
    "metadata:\n",
    "  name: \"tfserving-cifar10\"\n",
    "  namespace: kserve-demo\n",
    "  annotations:\n",
    "    sidecar.istio.io/inject: \"true\"\n",
    "    sidecar.istio.io/rewriteAppHTTPProbers: \"true\"\n",
    "    serving.knative.openshift.io/enablePassthrough: \"true\"\n",
    "spec:\n",
    "  predictor:\n",
    "    minReplicas: 1\n",
    "    logger:\n",
    "      mode: all\n",
    "      url: http://broker-ingress.knative-eventing.svc.cluster.local/kserve-demo/default\n",
    "    tensorflow:\n",
    "      storageUri: \"gs://seldon-models/tfserving/cifar10/resnet32\"\n",
    "EOF"
   ]
  },
  {
   "cell_type": "code",
   "execution_count": 10,
   "metadata": {},
   "outputs": [
    {
     "name": "stdout",
     "output_type": "stream",
     "text": [
      "inferenceservice.serving.kserve.io/tfserving-cifar10 condition met\n"
     ]
    }
   ],
   "source": [
    "%%bash\n",
    "\n",
    "# This will take some time\n",
    "oc wait inferenceservice -n kserve-demo tfserving-cifar10 --for=condition=ready --timeout=30m\n",
    "\n",
    "# if it never becomes ready, you might be hitting an Istio bug. In that case, kill this pod:\n",
    "# k delete pod -n istio-system istio-ingressgateway-..."
   ]
  },
  {
   "cell_type": "code",
   "execution_count": 27,
   "metadata": {},
   "outputs": [
    {
     "name": "stdout",
     "output_type": "stream",
     "text": [
      "service.serving.knative.dev/drift-detector created\n"
     ]
    }
   ],
   "source": [
    "%%bash\n",
    "\n",
    "cat <<EOF | oc apply -f -\n",
    "apiVersion: serving.knative.dev/v1\n",
    "kind: Service\n",
    "metadata:\n",
    "  name: drift-detector\n",
    "  namespace: kserve-demo\n",
    "spec:\n",
    "  template:\n",
    "    metadata:\n",
    "      annotations:\n",
    "        autoscaling.knative.dev/minScale: \"1\"\n",
    "    spec:\n",
    "      containers:\n",
    "      - image: seldonio/alibi-detect-server:0.0.2\n",
    "        imagePullPolicy: IfNotPresent\n",
    "        args:\n",
    "        - --model_name\n",
    "        - cifar10cd\n",
    "        - --http_port\n",
    "        - '8080'\n",
    "        - --protocol\n",
    "        - tensorflow.http\n",
    "        - --storage_uri\n",
    "        - gs://seldon-models/alibi-detect/cd/ks/cifar10\n",
    "        - --reply_url\n",
    "        - http://hello-display.kserve-demo\n",
    "        - --event_type\n",
    "        - org.kubeflow.serving.inference.outlier\n",
    "        - --event_source\n",
    "        - org.kubeflow.serving.cifar10cd\n",
    "        - DriftDetector\n",
    "        - --drift_batch_size\n",
    "        - '5000'\n",
    "EOF"
   ]
  },
  {
   "cell_type": "code",
   "execution_count": 28,
   "metadata": {},
   "outputs": [
    {
     "name": "stdout",
     "output_type": "stream",
     "text": [
      "service.serving.knative.dev/drift-detector condition met\n"
     ]
    }
   ],
   "source": [
    "%%bash\n",
    "\n",
    "oc wait ksvc -n kserve-demo drift-detector --for=condition=ready --timeout=30m"
   ]
  },
  {
   "cell_type": "code",
   "execution_count": 29,
   "metadata": {},
   "outputs": [
    {
     "name": "stdout",
     "output_type": "stream",
     "text": [
      "trigger.eventing.knative.dev/drift-trigger unchanged\n"
     ]
    }
   ],
   "source": [
    "%%bash\n",
    "\n",
    "cat <<EOF | oc apply -f -\n",
    "apiVersion: eventing.knative.dev/v1\n",
    "kind: Trigger\n",
    "metadata:\n",
    "  name: drift-trigger\n",
    "  namespace: kserve-demo\n",
    "spec:\n",
    "  broker: default\n",
    "  filter:\n",
    "    attributes:\n",
    "      type: org.kubeflow.serving.inference.request\n",
    "  subscriber:\n",
    "    ref:\n",
    "      apiVersion: serving.knative.dev/v1\n",
    "      kind: Service\n",
    "      name: drift-detector\n",
    "      namespace: kserve-demo\n",
    "EOF"
   ]
  },
  {
   "cell_type": "code",
   "execution_count": 15,
   "metadata": {},
   "outputs": [
    {
     "name": "stdout",
     "output_type": "stream",
     "text": [
      "https://tfserving-cifar10-predictor-kserve-demo.apps.aliok-c099.serverless.devcluster.openshift.com\n"
     ]
    }
   ],
   "source": [
    "#SERVICE_HOSTNAME_CIFAR10=!(kubectl get inferenceservice -n kserve-demo tfserving-cifar10 -o jsonpath='{.status.url}')\n",
    "#SERVICE_HOSTNAME_CIFAR10=SERVICE_HOSTNAME_CIFAR10[0]\n",
    "# SERVICE_HOSTNAME_CIFAR10=\"https://tfserving-cifar10-predictor-cifar10.apps.aliok-c093.serverless.devcluster.openshift.com\"\n",
    "SERVICE_HOSTNAME_CIFAR10=!(kubectl get ksvc -n kserve-demo tfserving-cifar10-predictor -o jsonpath='{.status.url}')\n",
    "SERVICE_HOSTNAME_CIFAR10=SERVICE_HOSTNAME_CIFAR10[0]\n",
    "print(SERVICE_HOSTNAME_CIFAR10)"
   ]
  },
  {
   "cell_type": "code",
   "execution_count": 16,
   "metadata": {},
   "outputs": [
    {
     "name": "stdout",
     "output_type": "stream",
     "text": [
      "https://drift-detector-kserve-demo.apps.aliok-c099.serverless.devcluster.openshift.com\n"
     ]
    }
   ],
   "source": [
    "SERVICE_HOSTNAME_VAEOD=!(kubectl get ksvc -n kserve-demo drift-detector -o jsonpath='{.status.url}')\n",
    "SERVICE_HOSTNAME_VAEOD=SERVICE_HOSTNAME_VAEOD[0]\n",
    "print(SERVICE_HOSTNAME_VAEOD)"
   ]
  },
  {
   "cell_type": "code",
   "execution_count": 30,
   "metadata": {},
   "outputs": [
    {
     "name": "stdout",
     "output_type": "stream",
     "text": [
      "(50000, 32, 32, 3) (50000, 1) (10000, 32, 32, 3) (10000, 1)\n"
     ]
    }
   ],
   "source": [
    "import matplotlib.pyplot as plt\n",
    "import numpy as np\n",
    "import requests\n",
    "import json\n",
    "import tensorflow as tf\n",
    "tf.keras.backend.clear_session()\n",
    "\n",
    "train, test = tf.keras.datasets.cifar10.load_data()\n",
    "X_train, y_train = train\n",
    "X_test, y_test = test\n",
    "\n",
    "X_train = X_train.astype('float32') / 255\n",
    "X_test = X_test.astype('float32') / 255\n",
    "print(X_train.shape, y_train.shape, X_test.shape, y_test.shape)\n",
    "classes = ('plane', 'car', 'bird', 'cat',\n",
    "           'deer', 'dog', 'frog', 'horse', 'ship', 'truck')\n",
    "\n",
    "def show(X):\n",
    "    plt.imshow(X.reshape(32, 32, 3))\n",
    "    plt.axis('off')\n",
    "    plt.show()\n",
    "\n",
    "def predict(X):\n",
    "    formData = {\n",
    "    'instances': X.tolist()\n",
    "    }\n",
    "    url = SERVICE_HOSTNAME_CIFAR10 +'/v1/models/tfserving-cifar10:predict'\n",
    "    print(\"Predict url:\" + url)\n",
    "    res = requests.post(url, json=formData, verify=False)\n",
    "    if res.status_code == 200:\n",
    "        j = res.json()\n",
    "        if len(j[\"predictions\"]) == 1:\n",
    "            return classes[np.array(j[\"predictions\"])[0].argmax()]\n",
    "    else:\n",
    "        print(\"Failed with \", res.status_code)\n",
    "        print(\"Body:\")\n",
    "        print(res.content)\n",
    "        return []\n",
    "    \n",
    "def drift(X):\n",
    "    formData = {\n",
    "    'instances': X.tolist()\n",
    "    }\n",
    "    headers = { \"ce-namespace\": \"default\",\"ce-modelid\":\"cifar10drift\",\"ce-type\":\"io.seldon.serving.inference.request\", \\\n",
    "                \"ce-id\":\"1234\",\"ce-source\":\"localhost\",\"ce-specversion\":\"1.0\"}\n",
    "    res = requests.post(SERVICE_HOSTNAME_VAEOD +'/', json=formData, headers=headers)\n",
    "    if res.status_code == 200:\n",
    "        od = res.json()\n",
    "        return od\n",
    "    else:\n",
    "        print(\"Failed with \",res.status_code)\n",
    "        return []"
   ]
  },
  {
   "cell_type": "code",
   "execution_count": 18,
   "metadata": {},
   "outputs": [
    {
     "data": {
      "image/png": "[encoded data removed]",
      "text/plain": [
       "<Figure size 640x480 with 1 Axes>"
      ]
     },
     "metadata": {},
     "output_type": "display_data"
    },
    {
     "name": "stdout",
     "output_type": "stream",
     "text": [
      "Predict url:https://tfserving-cifar10-predictor-kserve-demo.apps.aliok-c099.serverless.devcluster.openshift.com/v1/models/tfserving-cifar10:predict\n"
     ]
    },
    {
     "name": "stderr",
     "output_type": "stream",
     "text": [
      "/Users/aliok/script/yaml/data-science/data-science/drift-detection/lib/python3.9/site-packages/urllib3/connectionpool.py:1056: InsecureRequestWarning: Unverified HTTPS request is being made to host 'tfserving-cifar10-predictor-kserve-demo.apps.aliok-c099.serverless.devcluster.openshift.com'. Adding certificate verification is strongly advised. See: https://urllib3.readthedocs.io/en/1.26.x/advanced-usage.html#ssl-warnings\n",
      "  warnings.warn(\n"
     ]
    },
    {
     "data": {
      "text/plain": [
       "'truck'"
      ]
     },
     "execution_count": 18,
     "metadata": {},
     "output_type": "execute_result"
    }
   ],
   "source": [
    "idx = 1\n",
    "X = X_train[idx:idx+1]\n",
    "show(X)\n",
    "predict(X)"
   ]
  },
  {
   "cell_type": "code",
   "execution_count": null,
   "metadata": {},
   "outputs": [],
   "source": [
    "!kubectl logs -n kserve-demo $(kubectl get pod -n kserve-demo -l app=hello-display -o jsonpath='{.items[0].metadata.name}') "
   ]
  },
  {
   "cell_type": "code",
   "execution_count": 31,
   "metadata": {},
   "outputs": [
    {
     "data": {
      "application/vnd.jupyter.widget-view+json": {
       "model_id": "eb67f06593174c8dbede72a71bf1b1ee",
       "version_major": 2,
       "version_minor": 0
      },
      "text/plain": [
       "  0%|          | 0/50 [00:00<?, ?it/s]"
      ]
     },
     "metadata": {},
     "output_type": "display_data"
    },
    {
     "name": "stdout",
     "output_type": "stream",
     "text": [
      "Predict url:https://tfserving-cifar10-predictor-kserve-demo.apps.aliok-c099.serverless.devcluster.openshift.com/v1/models/tfserving-cifar10:predict\n"
     ]
    },
    {
     "name": "stderr",
     "output_type": "stream",
     "text": [
      "/Users/aliok/script/yaml/data-science/data-science/drift-detection/lib/python3.9/site-packages/urllib3/connectionpool.py:1056: InsecureRequestWarning: Unverified HTTPS request is being made to host 'tfserving-cifar10-predictor-kserve-demo.apps.aliok-c099.serverless.devcluster.openshift.com'. Adding certificate verification is strongly advised. See: https://urllib3.readthedocs.io/en/1.26.x/advanced-usage.html#ssl-warnings\n",
      "  warnings.warn(\n"
     ]
    },
    {
     "name": "stdout",
     "output_type": "stream",
     "text": [
      "Predict url:https://tfserving-cifar10-predictor-kserve-demo.apps.aliok-c099.serverless.devcluster.openshift.com/v1/models/tfserving-cifar10:predict\n"
     ]
    },
    {
     "name": "stderr",
     "output_type": "stream",
     "text": [
      "/Users/aliok/script/yaml/data-science/data-science/drift-detection/lib/python3.9/site-packages/urllib3/connectionpool.py:1056: InsecureRequestWarning: Unverified HTTPS request is being made to host 'tfserving-cifar10-predictor-kserve-demo.apps.aliok-c099.serverless.devcluster.openshift.com'. Adding certificate verification is strongly advised. See: https://urllib3.readthedocs.io/en/1.26.x/advanced-usage.html#ssl-warnings\n",
      "  warnings.warn(\n"
     ]
    },
    {
     "name": "stdout",
     "output_type": "stream",
     "text": [
      "Predict url:https://tfserving-cifar10-predictor-kserve-demo.apps.aliok-c099.serverless.devcluster.openshift.com/v1/models/tfserving-cifar10:predict\n"
     ]
    },
    {
     "name": "stderr",
     "output_type": "stream",
     "text": [
      "/Users/aliok/script/yaml/data-science/data-science/drift-detection/lib/python3.9/site-packages/urllib3/connectionpool.py:1056: InsecureRequestWarning: Unverified HTTPS request is being made to host 'tfserving-cifar10-predictor-kserve-demo.apps.aliok-c099.serverless.devcluster.openshift.com'. Adding certificate verification is strongly advised. See: https://urllib3.readthedocs.io/en/1.26.x/advanced-usage.html#ssl-warnings\n",
      "  warnings.warn(\n"
     ]
    },
    {
     "name": "stdout",
     "output_type": "stream",
     "text": [
      "Predict url:https://tfserving-cifar10-predictor-kserve-demo.apps.aliok-c099.serverless.devcluster.openshift.com/v1/models/tfserving-cifar10:predict\n"
     ]
    },
    {
     "name": "stderr",
     "output_type": "stream",
     "text": [
      "/Users/aliok/script/yaml/data-science/data-science/drift-detection/lib/python3.9/site-packages/urllib3/connectionpool.py:1056: InsecureRequestWarning: Unverified HTTPS request is being made to host 'tfserving-cifar10-predictor-kserve-demo.apps.aliok-c099.serverless.devcluster.openshift.com'. Adding certificate verification is strongly advised. See: https://urllib3.readthedocs.io/en/1.26.x/advanced-usage.html#ssl-warnings\n",
      "  warnings.warn(\n"
     ]
    },
    {
     "name": "stdout",
     "output_type": "stream",
     "text": [
      "Predict url:https://tfserving-cifar10-predictor-kserve-demo.apps.aliok-c099.serverless.devcluster.openshift.com/v1/models/tfserving-cifar10:predict\n"
     ]
    },
    {
     "name": "stderr",
     "output_type": "stream",
     "text": [
      "/Users/aliok/script/yaml/data-science/data-science/drift-detection/lib/python3.9/site-packages/urllib3/connectionpool.py:1056: InsecureRequestWarning: Unverified HTTPS request is being made to host 'tfserving-cifar10-predictor-kserve-demo.apps.aliok-c099.serverless.devcluster.openshift.com'. Adding certificate verification is strongly advised. See: https://urllib3.readthedocs.io/en/1.26.x/advanced-usage.html#ssl-warnings\n",
      "  warnings.warn(\n"
     ]
    },
    {
     "name": "stdout",
     "output_type": "stream",
     "text": [
      "Predict url:https://tfserving-cifar10-predictor-kserve-demo.apps.aliok-c099.serverless.devcluster.openshift.com/v1/models/tfserving-cifar10:predict\n"
     ]
    },
    {
     "name": "stderr",
     "output_type": "stream",
     "text": [
      "/Users/aliok/script/yaml/data-science/data-science/drift-detection/lib/python3.9/site-packages/urllib3/connectionpool.py:1056: InsecureRequestWarning: Unverified HTTPS request is being made to host 'tfserving-cifar10-predictor-kserve-demo.apps.aliok-c099.serverless.devcluster.openshift.com'. Adding certificate verification is strongly advised. See: https://urllib3.readthedocs.io/en/1.26.x/advanced-usage.html#ssl-warnings\n",
      "  warnings.warn(\n"
     ]
    },
    {
     "name": "stdout",
     "output_type": "stream",
     "text": [
      "Predict url:https://tfserving-cifar10-predictor-kserve-demo.apps.aliok-c099.serverless.devcluster.openshift.com/v1/models/tfserving-cifar10:predict\n"
     ]
    },
    {
     "name": "stderr",
     "output_type": "stream",
     "text": [
      "/Users/aliok/script/yaml/data-science/data-science/drift-detection/lib/python3.9/site-packages/urllib3/connectionpool.py:1056: InsecureRequestWarning: Unverified HTTPS request is being made to host 'tfserving-cifar10-predictor-kserve-demo.apps.aliok-c099.serverless.devcluster.openshift.com'. Adding certificate verification is strongly advised. See: https://urllib3.readthedocs.io/en/1.26.x/advanced-usage.html#ssl-warnings\n",
      "  warnings.warn(\n"
     ]
    },
    {
     "name": "stdout",
     "output_type": "stream",
     "text": [
      "Predict url:https://tfserving-cifar10-predictor-kserve-demo.apps.aliok-c099.serverless.devcluster.openshift.com/v1/models/tfserving-cifar10:predict\n"
     ]
    },
    {
     "name": "stderr",
     "output_type": "stream",
     "text": [
      "/Users/aliok/script/yaml/data-science/data-science/drift-detection/lib/python3.9/site-packages/urllib3/connectionpool.py:1056: InsecureRequestWarning: Unverified HTTPS request is being made to host 'tfserving-cifar10-predictor-kserve-demo.apps.aliok-c099.serverless.devcluster.openshift.com'. Adding certificate verification is strongly advised. See: https://urllib3.readthedocs.io/en/1.26.x/advanced-usage.html#ssl-warnings\n",
      "  warnings.warn(\n"
     ]
    },
    {
     "name": "stdout",
     "output_type": "stream",
     "text": [
      "Predict url:https://tfserving-cifar10-predictor-kserve-demo.apps.aliok-c099.serverless.devcluster.openshift.com/v1/models/tfserving-cifar10:predict\n"
     ]
    },
    {
     "name": "stderr",
     "output_type": "stream",
     "text": [
      "/Users/aliok/script/yaml/data-science/data-science/drift-detection/lib/python3.9/site-packages/urllib3/connectionpool.py:1056: InsecureRequestWarning: Unverified HTTPS request is being made to host 'tfserving-cifar10-predictor-kserve-demo.apps.aliok-c099.serverless.devcluster.openshift.com'. Adding certificate verification is strongly advised. See: https://urllib3.readthedocs.io/en/1.26.x/advanced-usage.html#ssl-warnings\n",
      "  warnings.warn(\n"
     ]
    },
    {
     "name": "stdout",
     "output_type": "stream",
     "text": [
      "Predict url:https://tfserving-cifar10-predictor-kserve-demo.apps.aliok-c099.serverless.devcluster.openshift.com/v1/models/tfserving-cifar10:predict\n"
     ]
    },
    {
     "name": "stderr",
     "output_type": "stream",
     "text": [
      "/Users/aliok/script/yaml/data-science/data-science/drift-detection/lib/python3.9/site-packages/urllib3/connectionpool.py:1056: InsecureRequestWarning: Unverified HTTPS request is being made to host 'tfserving-cifar10-predictor-kserve-demo.apps.aliok-c099.serverless.devcluster.openshift.com'. Adding certificate verification is strongly advised. See: https://urllib3.readthedocs.io/en/1.26.x/advanced-usage.html#ssl-warnings\n",
      "  warnings.warn(\n"
     ]
    },
    {
     "name": "stdout",
     "output_type": "stream",
     "text": [
      "Predict url:https://tfserving-cifar10-predictor-kserve-demo.apps.aliok-c099.serverless.devcluster.openshift.com/v1/models/tfserving-cifar10:predict\n"
     ]
    },
    {
     "name": "stderr",
     "output_type": "stream",
     "text": [
      "/Users/aliok/script/yaml/data-science/data-science/drift-detection/lib/python3.9/site-packages/urllib3/connectionpool.py:1056: InsecureRequestWarning: Unverified HTTPS request is being made to host 'tfserving-cifar10-predictor-kserve-demo.apps.aliok-c099.serverless.devcluster.openshift.com'. Adding certificate verification is strongly advised. See: https://urllib3.readthedocs.io/en/1.26.x/advanced-usage.html#ssl-warnings\n",
      "  warnings.warn(\n"
     ]
    },
    {
     "name": "stdout",
     "output_type": "stream",
     "text": [
      "Predict url:https://tfserving-cifar10-predictor-kserve-demo.apps.aliok-c099.serverless.devcluster.openshift.com/v1/models/tfserving-cifar10:predict\n"
     ]
    },
    {
     "name": "stderr",
     "output_type": "stream",
     "text": [
      "/Users/aliok/script/yaml/data-science/data-science/drift-detection/lib/python3.9/site-packages/urllib3/connectionpool.py:1056: InsecureRequestWarning: Unverified HTTPS request is being made to host 'tfserving-cifar10-predictor-kserve-demo.apps.aliok-c099.serverless.devcluster.openshift.com'. Adding certificate verification is strongly advised. See: https://urllib3.readthedocs.io/en/1.26.x/advanced-usage.html#ssl-warnings\n",
      "  warnings.warn(\n"
     ]
    },
    {
     "name": "stdout",
     "output_type": "stream",
     "text": [
      "Predict url:https://tfserving-cifar10-predictor-kserve-demo.apps.aliok-c099.serverless.devcluster.openshift.com/v1/models/tfserving-cifar10:predict\n"
     ]
    },
    {
     "name": "stderr",
     "output_type": "stream",
     "text": [
      "/Users/aliok/script/yaml/data-science/data-science/drift-detection/lib/python3.9/site-packages/urllib3/connectionpool.py:1056: InsecureRequestWarning: Unverified HTTPS request is being made to host 'tfserving-cifar10-predictor-kserve-demo.apps.aliok-c099.serverless.devcluster.openshift.com'. Adding certificate verification is strongly advised. See: https://urllib3.readthedocs.io/en/1.26.x/advanced-usage.html#ssl-warnings\n",
      "  warnings.warn(\n"
     ]
    },
    {
     "name": "stdout",
     "output_type": "stream",
     "text": [
      "Predict url:https://tfserving-cifar10-predictor-kserve-demo.apps.aliok-c099.serverless.devcluster.openshift.com/v1/models/tfserving-cifar10:predict\n"
     ]
    },
    {
     "name": "stderr",
     "output_type": "stream",
     "text": [
      "/Users/aliok/script/yaml/data-science/data-science/drift-detection/lib/python3.9/site-packages/urllib3/connectionpool.py:1056: InsecureRequestWarning: Unverified HTTPS request is being made to host 'tfserving-cifar10-predictor-kserve-demo.apps.aliok-c099.serverless.devcluster.openshift.com'. Adding certificate verification is strongly advised. See: https://urllib3.readthedocs.io/en/1.26.x/advanced-usage.html#ssl-warnings\n",
      "  warnings.warn(\n"
     ]
    },
    {
     "name": "stdout",
     "output_type": "stream",
     "text": [
      "Predict url:https://tfserving-cifar10-predictor-kserve-demo.apps.aliok-c099.serverless.devcluster.openshift.com/v1/models/tfserving-cifar10:predict\n"
     ]
    },
    {
     "name": "stderr",
     "output_type": "stream",
     "text": [
      "/Users/aliok/script/yaml/data-science/data-science/drift-detection/lib/python3.9/site-packages/urllib3/connectionpool.py:1056: InsecureRequestWarning: Unverified HTTPS request is being made to host 'tfserving-cifar10-predictor-kserve-demo.apps.aliok-c099.serverless.devcluster.openshift.com'. Adding certificate verification is strongly advised. See: https://urllib3.readthedocs.io/en/1.26.x/advanced-usage.html#ssl-warnings\n",
      "  warnings.warn(\n"
     ]
    },
    {
     "name": "stdout",
     "output_type": "stream",
     "text": [
      "Predict url:https://tfserving-cifar10-predictor-kserve-demo.apps.aliok-c099.serverless.devcluster.openshift.com/v1/models/tfserving-cifar10:predict\n"
     ]
    },
    {
     "name": "stderr",
     "output_type": "stream",
     "text": [
      "/Users/aliok/script/yaml/data-science/data-science/drift-detection/lib/python3.9/site-packages/urllib3/connectionpool.py:1056: InsecureRequestWarning: Unverified HTTPS request is being made to host 'tfserving-cifar10-predictor-kserve-demo.apps.aliok-c099.serverless.devcluster.openshift.com'. Adding certificate verification is strongly advised. See: https://urllib3.readthedocs.io/en/1.26.x/advanced-usage.html#ssl-warnings\n",
      "  warnings.warn(\n"
     ]
    },
    {
     "name": "stdout",
     "output_type": "stream",
     "text": [
      "Predict url:https://tfserving-cifar10-predictor-kserve-demo.apps.aliok-c099.serverless.devcluster.openshift.com/v1/models/tfserving-cifar10:predict\n"
     ]
    },
    {
     "name": "stderr",
     "output_type": "stream",
     "text": [
      "/Users/aliok/script/yaml/data-science/data-science/drift-detection/lib/python3.9/site-packages/urllib3/connectionpool.py:1056: InsecureRequestWarning: Unverified HTTPS request is being made to host 'tfserving-cifar10-predictor-kserve-demo.apps.aliok-c099.serverless.devcluster.openshift.com'. Adding certificate verification is strongly advised. See: https://urllib3.readthedocs.io/en/1.26.x/advanced-usage.html#ssl-warnings\n",
      "  warnings.warn(\n"
     ]
    },
    {
     "name": "stdout",
     "output_type": "stream",
     "text": [
      "Predict url:https://tfserving-cifar10-predictor-kserve-demo.apps.aliok-c099.serverless.devcluster.openshift.com/v1/models/tfserving-cifar10:predict\n"
     ]
    },
    {
     "name": "stderr",
     "output_type": "stream",
     "text": [
      "/Users/aliok/script/yaml/data-science/data-science/drift-detection/lib/python3.9/site-packages/urllib3/connectionpool.py:1056: InsecureRequestWarning: Unverified HTTPS request is being made to host 'tfserving-cifar10-predictor-kserve-demo.apps.aliok-c099.serverless.devcluster.openshift.com'. Adding certificate verification is strongly advised. See: https://urllib3.readthedocs.io/en/1.26.x/advanced-usage.html#ssl-warnings\n",
      "  warnings.warn(\n"
     ]
    },
    {
     "name": "stdout",
     "output_type": "stream",
     "text": [
      "Predict url:https://tfserving-cifar10-predictor-kserve-demo.apps.aliok-c099.serverless.devcluster.openshift.com/v1/models/tfserving-cifar10:predict\n"
     ]
    },
    {
     "name": "stderr",
     "output_type": "stream",
     "text": [
      "/Users/aliok/script/yaml/data-science/data-science/drift-detection/lib/python3.9/site-packages/urllib3/connectionpool.py:1056: InsecureRequestWarning: Unverified HTTPS request is being made to host 'tfserving-cifar10-predictor-kserve-demo.apps.aliok-c099.serverless.devcluster.openshift.com'. Adding certificate verification is strongly advised. See: https://urllib3.readthedocs.io/en/1.26.x/advanced-usage.html#ssl-warnings\n",
      "  warnings.warn(\n"
     ]
    },
    {
     "name": "stdout",
     "output_type": "stream",
     "text": [
      "Predict url:https://tfserving-cifar10-predictor-kserve-demo.apps.aliok-c099.serverless.devcluster.openshift.com/v1/models/tfserving-cifar10:predict\n"
     ]
    },
    {
     "name": "stderr",
     "output_type": "stream",
     "text": [
      "/Users/aliok/script/yaml/data-science/data-science/drift-detection/lib/python3.9/site-packages/urllib3/connectionpool.py:1056: InsecureRequestWarning: Unverified HTTPS request is being made to host 'tfserving-cifar10-predictor-kserve-demo.apps.aliok-c099.serverless.devcluster.openshift.com'. Adding certificate verification is strongly advised. See: https://urllib3.readthedocs.io/en/1.26.x/advanced-usage.html#ssl-warnings\n",
      "  warnings.warn(\n"
     ]
    },
    {
     "name": "stdout",
     "output_type": "stream",
     "text": [
      "Predict url:https://tfserving-cifar10-predictor-kserve-demo.apps.aliok-c099.serverless.devcluster.openshift.com/v1/models/tfserving-cifar10:predict\n"
     ]
    },
    {
     "name": "stderr",
     "output_type": "stream",
     "text": [
      "/Users/aliok/script/yaml/data-science/data-science/drift-detection/lib/python3.9/site-packages/urllib3/connectionpool.py:1056: InsecureRequestWarning: Unverified HTTPS request is being made to host 'tfserving-cifar10-predictor-kserve-demo.apps.aliok-c099.serverless.devcluster.openshift.com'. Adding certificate verification is strongly advised. See: https://urllib3.readthedocs.io/en/1.26.x/advanced-usage.html#ssl-warnings\n",
      "  warnings.warn(\n"
     ]
    },
    {
     "name": "stdout",
     "output_type": "stream",
     "text": [
      "Predict url:https://tfserving-cifar10-predictor-kserve-demo.apps.aliok-c099.serverless.devcluster.openshift.com/v1/models/tfserving-cifar10:predict\n"
     ]
    },
    {
     "name": "stderr",
     "output_type": "stream",
     "text": [
      "/Users/aliok/script/yaml/data-science/data-science/drift-detection/lib/python3.9/site-packages/urllib3/connectionpool.py:1056: InsecureRequestWarning: Unverified HTTPS request is being made to host 'tfserving-cifar10-predictor-kserve-demo.apps.aliok-c099.serverless.devcluster.openshift.com'. Adding certificate verification is strongly advised. See: https://urllib3.readthedocs.io/en/1.26.x/advanced-usage.html#ssl-warnings\n",
      "  warnings.warn(\n"
     ]
    },
    {
     "name": "stdout",
     "output_type": "stream",
     "text": [
      "Predict url:https://tfserving-cifar10-predictor-kserve-demo.apps.aliok-c099.serverless.devcluster.openshift.com/v1/models/tfserving-cifar10:predict\n"
     ]
    },
    {
     "name": "stderr",
     "output_type": "stream",
     "text": [
      "/Users/aliok/script/yaml/data-science/data-science/drift-detection/lib/python3.9/site-packages/urllib3/connectionpool.py:1056: InsecureRequestWarning: Unverified HTTPS request is being made to host 'tfserving-cifar10-predictor-kserve-demo.apps.aliok-c099.serverless.devcluster.openshift.com'. Adding certificate verification is strongly advised. See: https://urllib3.readthedocs.io/en/1.26.x/advanced-usage.html#ssl-warnings\n",
      "  warnings.warn(\n"
     ]
    },
    {
     "name": "stdout",
     "output_type": "stream",
     "text": [
      "Predict url:https://tfserving-cifar10-predictor-kserve-demo.apps.aliok-c099.serverless.devcluster.openshift.com/v1/models/tfserving-cifar10:predict\n"
     ]
    },
    {
     "name": "stderr",
     "output_type": "stream",
     "text": [
      "/Users/aliok/script/yaml/data-science/data-science/drift-detection/lib/python3.9/site-packages/urllib3/connectionpool.py:1056: InsecureRequestWarning: Unverified HTTPS request is being made to host 'tfserving-cifar10-predictor-kserve-demo.apps.aliok-c099.serverless.devcluster.openshift.com'. Adding certificate verification is strongly advised. See: https://urllib3.readthedocs.io/en/1.26.x/advanced-usage.html#ssl-warnings\n",
      "  warnings.warn(\n"
     ]
    },
    {
     "name": "stdout",
     "output_type": "stream",
     "text": [
      "Predict url:https://tfserving-cifar10-predictor-kserve-demo.apps.aliok-c099.serverless.devcluster.openshift.com/v1/models/tfserving-cifar10:predict\n"
     ]
    },
    {
     "name": "stderr",
     "output_type": "stream",
     "text": [
      "/Users/aliok/script/yaml/data-science/data-science/drift-detection/lib/python3.9/site-packages/urllib3/connectionpool.py:1056: InsecureRequestWarning: Unverified HTTPS request is being made to host 'tfserving-cifar10-predictor-kserve-demo.apps.aliok-c099.serverless.devcluster.openshift.com'. Adding certificate verification is strongly advised. See: https://urllib3.readthedocs.io/en/1.26.x/advanced-usage.html#ssl-warnings\n",
      "  warnings.warn(\n"
     ]
    },
    {
     "name": "stdout",
     "output_type": "stream",
     "text": [
      "Predict url:https://tfserving-cifar10-predictor-kserve-demo.apps.aliok-c099.serverless.devcluster.openshift.com/v1/models/tfserving-cifar10:predict\n"
     ]
    },
    {
     "name": "stderr",
     "output_type": "stream",
     "text": [
      "/Users/aliok/script/yaml/data-science/data-science/drift-detection/lib/python3.9/site-packages/urllib3/connectionpool.py:1056: InsecureRequestWarning: Unverified HTTPS request is being made to host 'tfserving-cifar10-predictor-kserve-demo.apps.aliok-c099.serverless.devcluster.openshift.com'. Adding certificate verification is strongly advised. See: https://urllib3.readthedocs.io/en/1.26.x/advanced-usage.html#ssl-warnings\n",
      "  warnings.warn(\n"
     ]
    },
    {
     "name": "stdout",
     "output_type": "stream",
     "text": [
      "Predict url:https://tfserving-cifar10-predictor-kserve-demo.apps.aliok-c099.serverless.devcluster.openshift.com/v1/models/tfserving-cifar10:predict\n"
     ]
    },
    {
     "name": "stderr",
     "output_type": "stream",
     "text": [
      "/Users/aliok/script/yaml/data-science/data-science/drift-detection/lib/python3.9/site-packages/urllib3/connectionpool.py:1056: InsecureRequestWarning: Unverified HTTPS request is being made to host 'tfserving-cifar10-predictor-kserve-demo.apps.aliok-c099.serverless.devcluster.openshift.com'. Adding certificate verification is strongly advised. See: https://urllib3.readthedocs.io/en/1.26.x/advanced-usage.html#ssl-warnings\n",
      "  warnings.warn(\n"
     ]
    },
    {
     "name": "stdout",
     "output_type": "stream",
     "text": [
      "Predict url:https://tfserving-cifar10-predictor-kserve-demo.apps.aliok-c099.serverless.devcluster.openshift.com/v1/models/tfserving-cifar10:predict\n"
     ]
    },
    {
     "name": "stderr",
     "output_type": "stream",
     "text": [
      "/Users/aliok/script/yaml/data-science/data-science/drift-detection/lib/python3.9/site-packages/urllib3/connectionpool.py:1056: InsecureRequestWarning: Unverified HTTPS request is being made to host 'tfserving-cifar10-predictor-kserve-demo.apps.aliok-c099.serverless.devcluster.openshift.com'. Adding certificate verification is strongly advised. See: https://urllib3.readthedocs.io/en/1.26.x/advanced-usage.html#ssl-warnings\n",
      "  warnings.warn(\n"
     ]
    },
    {
     "name": "stdout",
     "output_type": "stream",
     "text": [
      "Predict url:https://tfserving-cifar10-predictor-kserve-demo.apps.aliok-c099.serverless.devcluster.openshift.com/v1/models/tfserving-cifar10:predict\n"
     ]
    },
    {
     "name": "stderr",
     "output_type": "stream",
     "text": [
      "/Users/aliok/script/yaml/data-science/data-science/drift-detection/lib/python3.9/site-packages/urllib3/connectionpool.py:1056: InsecureRequestWarning: Unverified HTTPS request is being made to host 'tfserving-cifar10-predictor-kserve-demo.apps.aliok-c099.serverless.devcluster.openshift.com'. Adding certificate verification is strongly advised. See: https://urllib3.readthedocs.io/en/1.26.x/advanced-usage.html#ssl-warnings\n",
      "  warnings.warn(\n"
     ]
    },
    {
     "name": "stdout",
     "output_type": "stream",
     "text": [
      "Predict url:https://tfserving-cifar10-predictor-kserve-demo.apps.aliok-c099.serverless.devcluster.openshift.com/v1/models/tfserving-cifar10:predict\n"
     ]
    },
    {
     "name": "stderr",
     "output_type": "stream",
     "text": [
      "/Users/aliok/script/yaml/data-science/data-science/drift-detection/lib/python3.9/site-packages/urllib3/connectionpool.py:1056: InsecureRequestWarning: Unverified HTTPS request is being made to host 'tfserving-cifar10-predictor-kserve-demo.apps.aliok-c099.serverless.devcluster.openshift.com'. Adding certificate verification is strongly advised. See: https://urllib3.readthedocs.io/en/1.26.x/advanced-usage.html#ssl-warnings\n",
      "  warnings.warn(\n"
     ]
    },
    {
     "name": "stdout",
     "output_type": "stream",
     "text": [
      "Predict url:https://tfserving-cifar10-predictor-kserve-demo.apps.aliok-c099.serverless.devcluster.openshift.com/v1/models/tfserving-cifar10:predict\n"
     ]
    },
    {
     "name": "stderr",
     "output_type": "stream",
     "text": [
      "/Users/aliok/script/yaml/data-science/data-science/drift-detection/lib/python3.9/site-packages/urllib3/connectionpool.py:1056: InsecureRequestWarning: Unverified HTTPS request is being made to host 'tfserving-cifar10-predictor-kserve-demo.apps.aliok-c099.serverless.devcluster.openshift.com'. Adding certificate verification is strongly advised. See: https://urllib3.readthedocs.io/en/1.26.x/advanced-usage.html#ssl-warnings\n",
      "  warnings.warn(\n"
     ]
    },
    {
     "name": "stdout",
     "output_type": "stream",
     "text": [
      "Predict url:https://tfserving-cifar10-predictor-kserve-demo.apps.aliok-c099.serverless.devcluster.openshift.com/v1/models/tfserving-cifar10:predict\n"
     ]
    },
    {
     "name": "stderr",
     "output_type": "stream",
     "text": [
      "/Users/aliok/script/yaml/data-science/data-science/drift-detection/lib/python3.9/site-packages/urllib3/connectionpool.py:1056: InsecureRequestWarning: Unverified HTTPS request is being made to host 'tfserving-cifar10-predictor-kserve-demo.apps.aliok-c099.serverless.devcluster.openshift.com'. Adding certificate verification is strongly advised. See: https://urllib3.readthedocs.io/en/1.26.x/advanced-usage.html#ssl-warnings\n",
      "  warnings.warn(\n"
     ]
    },
    {
     "name": "stdout",
     "output_type": "stream",
     "text": [
      "Predict url:https://tfserving-cifar10-predictor-kserve-demo.apps.aliok-c099.serverless.devcluster.openshift.com/v1/models/tfserving-cifar10:predict\n"
     ]
    },
    {
     "name": "stderr",
     "output_type": "stream",
     "text": [
      "/Users/aliok/script/yaml/data-science/data-science/drift-detection/lib/python3.9/site-packages/urllib3/connectionpool.py:1056: InsecureRequestWarning: Unverified HTTPS request is being made to host 'tfserving-cifar10-predictor-kserve-demo.apps.aliok-c099.serverless.devcluster.openshift.com'. Adding certificate verification is strongly advised. See: https://urllib3.readthedocs.io/en/1.26.x/advanced-usage.html#ssl-warnings\n",
      "  warnings.warn(\n"
     ]
    },
    {
     "name": "stdout",
     "output_type": "stream",
     "text": [
      "Predict url:https://tfserving-cifar10-predictor-kserve-demo.apps.aliok-c099.serverless.devcluster.openshift.com/v1/models/tfserving-cifar10:predict\n"
     ]
    },
    {
     "name": "stderr",
     "output_type": "stream",
     "text": [
      "/Users/aliok/script/yaml/data-science/data-science/drift-detection/lib/python3.9/site-packages/urllib3/connectionpool.py:1056: InsecureRequestWarning: Unverified HTTPS request is being made to host 'tfserving-cifar10-predictor-kserve-demo.apps.aliok-c099.serverless.devcluster.openshift.com'. Adding certificate verification is strongly advised. See: https://urllib3.readthedocs.io/en/1.26.x/advanced-usage.html#ssl-warnings\n",
      "  warnings.warn(\n"
     ]
    },
    {
     "name": "stdout",
     "output_type": "stream",
     "text": [
      "Predict url:https://tfserving-cifar10-predictor-kserve-demo.apps.aliok-c099.serverless.devcluster.openshift.com/v1/models/tfserving-cifar10:predict\n"
     ]
    },
    {
     "name": "stderr",
     "output_type": "stream",
     "text": [
      "/Users/aliok/script/yaml/data-science/data-science/drift-detection/lib/python3.9/site-packages/urllib3/connectionpool.py:1056: InsecureRequestWarning: Unverified HTTPS request is being made to host 'tfserving-cifar10-predictor-kserve-demo.apps.aliok-c099.serverless.devcluster.openshift.com'. Adding certificate verification is strongly advised. See: https://urllib3.readthedocs.io/en/1.26.x/advanced-usage.html#ssl-warnings\n",
      "  warnings.warn(\n"
     ]
    },
    {
     "name": "stdout",
     "output_type": "stream",
     "text": [
      "Predict url:https://tfserving-cifar10-predictor-kserve-demo.apps.aliok-c099.serverless.devcluster.openshift.com/v1/models/tfserving-cifar10:predict\n"
     ]
    },
    {
     "name": "stderr",
     "output_type": "stream",
     "text": [
      "/Users/aliok/script/yaml/data-science/data-science/drift-detection/lib/python3.9/site-packages/urllib3/connectionpool.py:1056: InsecureRequestWarning: Unverified HTTPS request is being made to host 'tfserving-cifar10-predictor-kserve-demo.apps.aliok-c099.serverless.devcluster.openshift.com'. Adding certificate verification is strongly advised. See: https://urllib3.readthedocs.io/en/1.26.x/advanced-usage.html#ssl-warnings\n",
      "  warnings.warn(\n"
     ]
    },
    {
     "name": "stdout",
     "output_type": "stream",
     "text": [
      "Predict url:https://tfserving-cifar10-predictor-kserve-demo.apps.aliok-c099.serverless.devcluster.openshift.com/v1/models/tfserving-cifar10:predict\n"
     ]
    },
    {
     "name": "stderr",
     "output_type": "stream",
     "text": [
      "/Users/aliok/script/yaml/data-science/data-science/drift-detection/lib/python3.9/site-packages/urllib3/connectionpool.py:1056: InsecureRequestWarning: Unverified HTTPS request is being made to host 'tfserving-cifar10-predictor-kserve-demo.apps.aliok-c099.serverless.devcluster.openshift.com'. Adding certificate verification is strongly advised. See: https://urllib3.readthedocs.io/en/1.26.x/advanced-usage.html#ssl-warnings\n",
      "  warnings.warn(\n"
     ]
    },
    {
     "name": "stdout",
     "output_type": "stream",
     "text": [
      "Predict url:https://tfserving-cifar10-predictor-kserve-demo.apps.aliok-c099.serverless.devcluster.openshift.com/v1/models/tfserving-cifar10:predict\n"
     ]
    },
    {
     "name": "stderr",
     "output_type": "stream",
     "text": [
      "/Users/aliok/script/yaml/data-science/data-science/drift-detection/lib/python3.9/site-packages/urllib3/connectionpool.py:1056: InsecureRequestWarning: Unverified HTTPS request is being made to host 'tfserving-cifar10-predictor-kserve-demo.apps.aliok-c099.serverless.devcluster.openshift.com'. Adding certificate verification is strongly advised. See: https://urllib3.readthedocs.io/en/1.26.x/advanced-usage.html#ssl-warnings\n",
      "  warnings.warn(\n"
     ]
    },
    {
     "name": "stdout",
     "output_type": "stream",
     "text": [
      "Predict url:https://tfserving-cifar10-predictor-kserve-demo.apps.aliok-c099.serverless.devcluster.openshift.com/v1/models/tfserving-cifar10:predict\n"
     ]
    },
    {
     "name": "stderr",
     "output_type": "stream",
     "text": [
      "/Users/aliok/script/yaml/data-science/data-science/drift-detection/lib/python3.9/site-packages/urllib3/connectionpool.py:1056: InsecureRequestWarning: Unverified HTTPS request is being made to host 'tfserving-cifar10-predictor-kserve-demo.apps.aliok-c099.serverless.devcluster.openshift.com'. Adding certificate verification is strongly advised. See: https://urllib3.readthedocs.io/en/1.26.x/advanced-usage.html#ssl-warnings\n",
      "  warnings.warn(\n"
     ]
    },
    {
     "name": "stdout",
     "output_type": "stream",
     "text": [
      "Predict url:https://tfserving-cifar10-predictor-kserve-demo.apps.aliok-c099.serverless.devcluster.openshift.com/v1/models/tfserving-cifar10:predict\n"
     ]
    },
    {
     "name": "stderr",
     "output_type": "stream",
     "text": [
      "/Users/aliok/script/yaml/data-science/data-science/drift-detection/lib/python3.9/site-packages/urllib3/connectionpool.py:1056: InsecureRequestWarning: Unverified HTTPS request is being made to host 'tfserving-cifar10-predictor-kserve-demo.apps.aliok-c099.serverless.devcluster.openshift.com'. Adding certificate verification is strongly advised. See: https://urllib3.readthedocs.io/en/1.26.x/advanced-usage.html#ssl-warnings\n",
      "  warnings.warn(\n"
     ]
    },
    {
     "name": "stdout",
     "output_type": "stream",
     "text": [
      "Predict url:https://tfserving-cifar10-predictor-kserve-demo.apps.aliok-c099.serverless.devcluster.openshift.com/v1/models/tfserving-cifar10:predict\n"
     ]
    },
    {
     "name": "stderr",
     "output_type": "stream",
     "text": [
      "/Users/aliok/script/yaml/data-science/data-science/drift-detection/lib/python3.9/site-packages/urllib3/connectionpool.py:1056: InsecureRequestWarning: Unverified HTTPS request is being made to host 'tfserving-cifar10-predictor-kserve-demo.apps.aliok-c099.serverless.devcluster.openshift.com'. Adding certificate verification is strongly advised. See: https://urllib3.readthedocs.io/en/1.26.x/advanced-usage.html#ssl-warnings\n",
      "  warnings.warn(\n"
     ]
    },
    {
     "name": "stdout",
     "output_type": "stream",
     "text": [
      "Predict url:https://tfserving-cifar10-predictor-kserve-demo.apps.aliok-c099.serverless.devcluster.openshift.com/v1/models/tfserving-cifar10:predict\n"
     ]
    },
    {
     "name": "stderr",
     "output_type": "stream",
     "text": [
      "/Users/aliok/script/yaml/data-science/data-science/drift-detection/lib/python3.9/site-packages/urllib3/connectionpool.py:1056: InsecureRequestWarning: Unverified HTTPS request is being made to host 'tfserving-cifar10-predictor-kserve-demo.apps.aliok-c099.serverless.devcluster.openshift.com'. Adding certificate verification is strongly advised. See: https://urllib3.readthedocs.io/en/1.26.x/advanced-usage.html#ssl-warnings\n",
      "  warnings.warn(\n"
     ]
    },
    {
     "name": "stdout",
     "output_type": "stream",
     "text": [
      "Predict url:https://tfserving-cifar10-predictor-kserve-demo.apps.aliok-c099.serverless.devcluster.openshift.com/v1/models/tfserving-cifar10:predict\n"
     ]
    },
    {
     "name": "stderr",
     "output_type": "stream",
     "text": [
      "/Users/aliok/script/yaml/data-science/data-science/drift-detection/lib/python3.9/site-packages/urllib3/connectionpool.py:1056: InsecureRequestWarning: Unverified HTTPS request is being made to host 'tfserving-cifar10-predictor-kserve-demo.apps.aliok-c099.serverless.devcluster.openshift.com'. Adding certificate verification is strongly advised. See: https://urllib3.readthedocs.io/en/1.26.x/advanced-usage.html#ssl-warnings\n",
      "  warnings.warn(\n"
     ]
    },
    {
     "name": "stdout",
     "output_type": "stream",
     "text": [
      "Predict url:https://tfserving-cifar10-predictor-kserve-demo.apps.aliok-c099.serverless.devcluster.openshift.com/v1/models/tfserving-cifar10:predict\n"
     ]
    },
    {
     "name": "stderr",
     "output_type": "stream",
     "text": [
      "/Users/aliok/script/yaml/data-science/data-science/drift-detection/lib/python3.9/site-packages/urllib3/connectionpool.py:1056: InsecureRequestWarning: Unverified HTTPS request is being made to host 'tfserving-cifar10-predictor-kserve-demo.apps.aliok-c099.serverless.devcluster.openshift.com'. Adding certificate verification is strongly advised. See: https://urllib3.readthedocs.io/en/1.26.x/advanced-usage.html#ssl-warnings\n",
      "  warnings.warn(\n"
     ]
    },
    {
     "name": "stdout",
     "output_type": "stream",
     "text": [
      "Predict url:https://tfserving-cifar10-predictor-kserve-demo.apps.aliok-c099.serverless.devcluster.openshift.com/v1/models/tfserving-cifar10:predict\n"
     ]
    },
    {
     "name": "stderr",
     "output_type": "stream",
     "text": [
      "/Users/aliok/script/yaml/data-science/data-science/drift-detection/lib/python3.9/site-packages/urllib3/connectionpool.py:1056: InsecureRequestWarning: Unverified HTTPS request is being made to host 'tfserving-cifar10-predictor-kserve-demo.apps.aliok-c099.serverless.devcluster.openshift.com'. Adding certificate verification is strongly advised. See: https://urllib3.readthedocs.io/en/1.26.x/advanced-usage.html#ssl-warnings\n",
      "  warnings.warn(\n"
     ]
    },
    {
     "name": "stdout",
     "output_type": "stream",
     "text": [
      "Predict url:https://tfserving-cifar10-predictor-kserve-demo.apps.aliok-c099.serverless.devcluster.openshift.com/v1/models/tfserving-cifar10:predict\n"
     ]
    },
    {
     "name": "stderr",
     "output_type": "stream",
     "text": [
      "/Users/aliok/script/yaml/data-science/data-science/drift-detection/lib/python3.9/site-packages/urllib3/connectionpool.py:1056: InsecureRequestWarning: Unverified HTTPS request is being made to host 'tfserving-cifar10-predictor-kserve-demo.apps.aliok-c099.serverless.devcluster.openshift.com'. Adding certificate verification is strongly advised. See: https://urllib3.readthedocs.io/en/1.26.x/advanced-usage.html#ssl-warnings\n",
      "  warnings.warn(\n"
     ]
    },
    {
     "name": "stdout",
     "output_type": "stream",
     "text": [
      "Predict url:https://tfserving-cifar10-predictor-kserve-demo.apps.aliok-c099.serverless.devcluster.openshift.com/v1/models/tfserving-cifar10:predict\n"
     ]
    },
    {
     "name": "stderr",
     "output_type": "stream",
     "text": [
      "/Users/aliok/script/yaml/data-science/data-science/drift-detection/lib/python3.9/site-packages/urllib3/connectionpool.py:1056: InsecureRequestWarning: Unverified HTTPS request is being made to host 'tfserving-cifar10-predictor-kserve-demo.apps.aliok-c099.serverless.devcluster.openshift.com'. Adding certificate verification is strongly advised. See: https://urllib3.readthedocs.io/en/1.26.x/advanced-usage.html#ssl-warnings\n",
      "  warnings.warn(\n"
     ]
    },
    {
     "name": "stdout",
     "output_type": "stream",
     "text": [
      "Predict url:https://tfserving-cifar10-predictor-kserve-demo.apps.aliok-c099.serverless.devcluster.openshift.com/v1/models/tfserving-cifar10:predict\n"
     ]
    },
    {
     "name": "stderr",
     "output_type": "stream",
     "text": [
      "/Users/aliok/script/yaml/data-science/data-science/drift-detection/lib/python3.9/site-packages/urllib3/connectionpool.py:1056: InsecureRequestWarning: Unverified HTTPS request is being made to host 'tfserving-cifar10-predictor-kserve-demo.apps.aliok-c099.serverless.devcluster.openshift.com'. Adding certificate verification is strongly advised. See: https://urllib3.readthedocs.io/en/1.26.x/advanced-usage.html#ssl-warnings\n",
      "  warnings.warn(\n"
     ]
    },
    {
     "name": "stdout",
     "output_type": "stream",
     "text": [
      "Predict url:https://tfserving-cifar10-predictor-kserve-demo.apps.aliok-c099.serverless.devcluster.openshift.com/v1/models/tfserving-cifar10:predict\n"
     ]
    },
    {
     "name": "stderr",
     "output_type": "stream",
     "text": [
      "/Users/aliok/script/yaml/data-science/data-science/drift-detection/lib/python3.9/site-packages/urllib3/connectionpool.py:1056: InsecureRequestWarning: Unverified HTTPS request is being made to host 'tfserving-cifar10-predictor-kserve-demo.apps.aliok-c099.serverless.devcluster.openshift.com'. Adding certificate verification is strongly advised. See: https://urllib3.readthedocs.io/en/1.26.x/advanced-usage.html#ssl-warnings\n",
      "  warnings.warn(\n"
     ]
    },
    {
     "name": "stdout",
     "output_type": "stream",
     "text": [
      "Predict url:https://tfserving-cifar10-predictor-kserve-demo.apps.aliok-c099.serverless.devcluster.openshift.com/v1/models/tfserving-cifar10:predict\n"
     ]
    },
    {
     "name": "stderr",
     "output_type": "stream",
     "text": [
      "/Users/aliok/script/yaml/data-science/data-science/drift-detection/lib/python3.9/site-packages/urllib3/connectionpool.py:1056: InsecureRequestWarning: Unverified HTTPS request is being made to host 'tfserving-cifar10-predictor-kserve-demo.apps.aliok-c099.serverless.devcluster.openshift.com'. Adding certificate verification is strongly advised. See: https://urllib3.readthedocs.io/en/1.26.x/advanced-usage.html#ssl-warnings\n",
      "  warnings.warn(\n"
     ]
    }
   ],
   "source": [
    "from tqdm.notebook import tqdm\n",
    "for i in tqdm(range(0,5000,100)):\n",
    "    X = X_train[i:i+100]\n",
    "    predict(X)"
   ]
  },
  {
   "cell_type": "code",
   "execution_count": 32,
   "metadata": {},
   "outputs": [],
   "source": [
    "from alibi_detect.datasets import fetch_cifar10c, corruption_types_cifar10c\n",
    "corruption = ['motion_blur']\n",
    "X_corr, y_corr = fetch_cifar10c(corruption=corruption, severity=5, return_X_y=True)\n",
    "X_corr = X_corr.astype('float32') / 255"
   ]
  },
  {
   "cell_type": "code",
   "execution_count": 33,
   "metadata": {},
   "outputs": [
    {
     "data": {
      "image/png": "[encoded data removed]",
      "text/plain": [
       "<Figure size 640x480 with 1 Axes>"
      ]
     },
     "metadata": {},
     "output_type": "display_data"
    }
   ],
   "source": [
    "show(X_corr[0])"
   ]
  },
  {
   "cell_type": "code",
   "execution_count": 34,
   "metadata": {},
   "outputs": [
    {
     "data": {
      "application/vnd.jupyter.widget-view+json": {
       "model_id": "7c234f55ef4041c18ff9d3a0605cbb18",
       "version_major": 2,
       "version_minor": 0
      },
      "text/plain": [
       "  0%|          | 0/50 [00:00<?, ?it/s]"
      ]
     },
     "metadata": {},
     "output_type": "display_data"
    },
    {
     "name": "stdout",
     "output_type": "stream",
     "text": [
      "Predict url:https://tfserving-cifar10-predictor-kserve-demo.apps.aliok-c099.serverless.devcluster.openshift.com/v1/models/tfserving-cifar10:predict\n"
     ]
    },
    {
     "name": "stderr",
     "output_type": "stream",
     "text": [
      "/Users/aliok/script/yaml/data-science/data-science/drift-detection/lib/python3.9/site-packages/urllib3/connectionpool.py:1056: InsecureRequestWarning: Unverified HTTPS request is being made to host 'tfserving-cifar10-predictor-kserve-demo.apps.aliok-c099.serverless.devcluster.openshift.com'. Adding certificate verification is strongly advised. See: https://urllib3.readthedocs.io/en/1.26.x/advanced-usage.html#ssl-warnings\n",
      "  warnings.warn(\n"
     ]
    },
    {
     "name": "stdout",
     "output_type": "stream",
     "text": [
      "Predict url:https://tfserving-cifar10-predictor-kserve-demo.apps.aliok-c099.serverless.devcluster.openshift.com/v1/models/tfserving-cifar10:predict\n"
     ]
    },
    {
     "name": "stderr",
     "output_type": "stream",
     "text": [
      "/Users/aliok/script/yaml/data-science/data-science/drift-detection/lib/python3.9/site-packages/urllib3/connectionpool.py:1056: InsecureRequestWarning: Unverified HTTPS request is being made to host 'tfserving-cifar10-predictor-kserve-demo.apps.aliok-c099.serverless.devcluster.openshift.com'. Adding certificate verification is strongly advised. See: https://urllib3.readthedocs.io/en/1.26.x/advanced-usage.html#ssl-warnings\n",
      "  warnings.warn(\n"
     ]
    },
    {
     "name": "stdout",
     "output_type": "stream",
     "text": [
      "Predict url:https://tfserving-cifar10-predictor-kserve-demo.apps.aliok-c099.serverless.devcluster.openshift.com/v1/models/tfserving-cifar10:predict\n"
     ]
    },
    {
     "name": "stderr",
     "output_type": "stream",
     "text": [
      "/Users/aliok/script/yaml/data-science/data-science/drift-detection/lib/python3.9/site-packages/urllib3/connectionpool.py:1056: InsecureRequestWarning: Unverified HTTPS request is being made to host 'tfserving-cifar10-predictor-kserve-demo.apps.aliok-c099.serverless.devcluster.openshift.com'. Adding certificate verification is strongly advised. See: https://urllib3.readthedocs.io/en/1.26.x/advanced-usage.html#ssl-warnings\n",
      "  warnings.warn(\n"
     ]
    },
    {
     "name": "stdout",
     "output_type": "stream",
     "text": [
      "Predict url:https://tfserving-cifar10-predictor-kserve-demo.apps.aliok-c099.serverless.devcluster.openshift.com/v1/models/tfserving-cifar10:predict\n"
     ]
    },
    {
     "name": "stderr",
     "output_type": "stream",
     "text": [
      "/Users/aliok/script/yaml/data-science/data-science/drift-detection/lib/python3.9/site-packages/urllib3/connectionpool.py:1056: InsecureRequestWarning: Unverified HTTPS request is being made to host 'tfserving-cifar10-predictor-kserve-demo.apps.aliok-c099.serverless.devcluster.openshift.com'. Adding certificate verification is strongly advised. See: https://urllib3.readthedocs.io/en/1.26.x/advanced-usage.html#ssl-warnings\n",
      "  warnings.warn(\n"
     ]
    },
    {
     "name": "stdout",
     "output_type": "stream",
     "text": [
      "Predict url:https://tfserving-cifar10-predictor-kserve-demo.apps.aliok-c099.serverless.devcluster.openshift.com/v1/models/tfserving-cifar10:predict\n"
     ]
    },
    {
     "name": "stderr",
     "output_type": "stream",
     "text": [
      "/Users/aliok/script/yaml/data-science/data-science/drift-detection/lib/python3.9/site-packages/urllib3/connectionpool.py:1056: InsecureRequestWarning: Unverified HTTPS request is being made to host 'tfserving-cifar10-predictor-kserve-demo.apps.aliok-c099.serverless.devcluster.openshift.com'. Adding certificate verification is strongly advised. See: https://urllib3.readthedocs.io/en/1.26.x/advanced-usage.html#ssl-warnings\n",
      "  warnings.warn(\n"
     ]
    },
    {
     "name": "stdout",
     "output_type": "stream",
     "text": [
      "Predict url:https://tfserving-cifar10-predictor-kserve-demo.apps.aliok-c099.serverless.devcluster.openshift.com/v1/models/tfserving-cifar10:predict\n"
     ]
    },
    {
     "name": "stderr",
     "output_type": "stream",
     "text": [
      "/Users/aliok/script/yaml/data-science/data-science/drift-detection/lib/python3.9/site-packages/urllib3/connectionpool.py:1056: InsecureRequestWarning: Unverified HTTPS request is being made to host 'tfserving-cifar10-predictor-kserve-demo.apps.aliok-c099.serverless.devcluster.openshift.com'. Adding certificate verification is strongly advised. See: https://urllib3.readthedocs.io/en/1.26.x/advanced-usage.html#ssl-warnings\n",
      "  warnings.warn(\n"
     ]
    },
    {
     "name": "stdout",
     "output_type": "stream",
     "text": [
      "Predict url:https://tfserving-cifar10-predictor-kserve-demo.apps.aliok-c099.serverless.devcluster.openshift.com/v1/models/tfserving-cifar10:predict\n"
     ]
    },
    {
     "name": "stderr",
     "output_type": "stream",
     "text": [
      "/Users/aliok/script/yaml/data-science/data-science/drift-detection/lib/python3.9/site-packages/urllib3/connectionpool.py:1056: InsecureRequestWarning: Unverified HTTPS request is being made to host 'tfserving-cifar10-predictor-kserve-demo.apps.aliok-c099.serverless.devcluster.openshift.com'. Adding certificate verification is strongly advised. See: https://urllib3.readthedocs.io/en/1.26.x/advanced-usage.html#ssl-warnings\n",
      "  warnings.warn(\n"
     ]
    },
    {
     "name": "stdout",
     "output_type": "stream",
     "text": [
      "Predict url:https://tfserving-cifar10-predictor-kserve-demo.apps.aliok-c099.serverless.devcluster.openshift.com/v1/models/tfserving-cifar10:predict\n"
     ]
    },
    {
     "name": "stderr",
     "output_type": "stream",
     "text": [
      "/Users/aliok/script/yaml/data-science/data-science/drift-detection/lib/python3.9/site-packages/urllib3/connectionpool.py:1056: InsecureRequestWarning: Unverified HTTPS request is being made to host 'tfserving-cifar10-predictor-kserve-demo.apps.aliok-c099.serverless.devcluster.openshift.com'. Adding certificate verification is strongly advised. See: https://urllib3.readthedocs.io/en/1.26.x/advanced-usage.html#ssl-warnings\n",
      "  warnings.warn(\n"
     ]
    },
    {
     "name": "stdout",
     "output_type": "stream",
     "text": [
      "Predict url:https://tfserving-cifar10-predictor-kserve-demo.apps.aliok-c099.serverless.devcluster.openshift.com/v1/models/tfserving-cifar10:predict\n"
     ]
    },
    {
     "name": "stderr",
     "output_type": "stream",
     "text": [
      "/Users/aliok/script/yaml/data-science/data-science/drift-detection/lib/python3.9/site-packages/urllib3/connectionpool.py:1056: InsecureRequestWarning: Unverified HTTPS request is being made to host 'tfserving-cifar10-predictor-kserve-demo.apps.aliok-c099.serverless.devcluster.openshift.com'. Adding certificate verification is strongly advised. See: https://urllib3.readthedocs.io/en/1.26.x/advanced-usage.html#ssl-warnings\n",
      "  warnings.warn(\n"
     ]
    },
    {
     "name": "stdout",
     "output_type": "stream",
     "text": [
      "Predict url:https://tfserving-cifar10-predictor-kserve-demo.apps.aliok-c099.serverless.devcluster.openshift.com/v1/models/tfserving-cifar10:predict\n"
     ]
    },
    {
     "name": "stderr",
     "output_type": "stream",
     "text": [
      "/Users/aliok/script/yaml/data-science/data-science/drift-detection/lib/python3.9/site-packages/urllib3/connectionpool.py:1056: InsecureRequestWarning: Unverified HTTPS request is being made to host 'tfserving-cifar10-predictor-kserve-demo.apps.aliok-c099.serverless.devcluster.openshift.com'. Adding certificate verification is strongly advised. See: https://urllib3.readthedocs.io/en/1.26.x/advanced-usage.html#ssl-warnings\n",
      "  warnings.warn(\n"
     ]
    },
    {
     "name": "stdout",
     "output_type": "stream",
     "text": [
      "Predict url:https://tfserving-cifar10-predictor-kserve-demo.apps.aliok-c099.serverless.devcluster.openshift.com/v1/models/tfserving-cifar10:predict\n"
     ]
    },
    {
     "name": "stderr",
     "output_type": "stream",
     "text": [
      "/Users/aliok/script/yaml/data-science/data-science/drift-detection/lib/python3.9/site-packages/urllib3/connectionpool.py:1056: InsecureRequestWarning: Unverified HTTPS request is being made to host 'tfserving-cifar10-predictor-kserve-demo.apps.aliok-c099.serverless.devcluster.openshift.com'. Adding certificate verification is strongly advised. See: https://urllib3.readthedocs.io/en/1.26.x/advanced-usage.html#ssl-warnings\n",
      "  warnings.warn(\n"
     ]
    },
    {
     "name": "stdout",
     "output_type": "stream",
     "text": [
      "Predict url:https://tfserving-cifar10-predictor-kserve-demo.apps.aliok-c099.serverless.devcluster.openshift.com/v1/models/tfserving-cifar10:predict\n"
     ]
    },
    {
     "name": "stderr",
     "output_type": "stream",
     "text": [
      "/Users/aliok/script/yaml/data-science/data-science/drift-detection/lib/python3.9/site-packages/urllib3/connectionpool.py:1056: InsecureRequestWarning: Unverified HTTPS request is being made to host 'tfserving-cifar10-predictor-kserve-demo.apps.aliok-c099.serverless.devcluster.openshift.com'. Adding certificate verification is strongly advised. See: https://urllib3.readthedocs.io/en/1.26.x/advanced-usage.html#ssl-warnings\n",
      "  warnings.warn(\n"
     ]
    },
    {
     "name": "stdout",
     "output_type": "stream",
     "text": [
      "Predict url:https://tfserving-cifar10-predictor-kserve-demo.apps.aliok-c099.serverless.devcluster.openshift.com/v1/models/tfserving-cifar10:predict\n"
     ]
    },
    {
     "name": "stderr",
     "output_type": "stream",
     "text": [
      "/Users/aliok/script/yaml/data-science/data-science/drift-detection/lib/python3.9/site-packages/urllib3/connectionpool.py:1056: InsecureRequestWarning: Unverified HTTPS request is being made to host 'tfserving-cifar10-predictor-kserve-demo.apps.aliok-c099.serverless.devcluster.openshift.com'. Adding certificate verification is strongly advised. See: https://urllib3.readthedocs.io/en/1.26.x/advanced-usage.html#ssl-warnings\n",
      "  warnings.warn(\n"
     ]
    },
    {
     "name": "stdout",
     "output_type": "stream",
     "text": [
      "Predict url:https://tfserving-cifar10-predictor-kserve-demo.apps.aliok-c099.serverless.devcluster.openshift.com/v1/models/tfserving-cifar10:predict\n"
     ]
    },
    {
     "name": "stderr",
     "output_type": "stream",
     "text": [
      "/Users/aliok/script/yaml/data-science/data-science/drift-detection/lib/python3.9/site-packages/urllib3/connectionpool.py:1056: InsecureRequestWarning: Unverified HTTPS request is being made to host 'tfserving-cifar10-predictor-kserve-demo.apps.aliok-c099.serverless.devcluster.openshift.com'. Adding certificate verification is strongly advised. See: https://urllib3.readthedocs.io/en/1.26.x/advanced-usage.html#ssl-warnings\n",
      "  warnings.warn(\n"
     ]
    },
    {
     "name": "stdout",
     "output_type": "stream",
     "text": [
      "Predict url:https://tfserving-cifar10-predictor-kserve-demo.apps.aliok-c099.serverless.devcluster.openshift.com/v1/models/tfserving-cifar10:predict\n"
     ]
    },
    {
     "name": "stderr",
     "output_type": "stream",
     "text": [
      "/Users/aliok/script/yaml/data-science/data-science/drift-detection/lib/python3.9/site-packages/urllib3/connectionpool.py:1056: InsecureRequestWarning: Unverified HTTPS request is being made to host 'tfserving-cifar10-predictor-kserve-demo.apps.aliok-c099.serverless.devcluster.openshift.com'. Adding certificate verification is strongly advised. See: https://urllib3.readthedocs.io/en/1.26.x/advanced-usage.html#ssl-warnings\n",
      "  warnings.warn(\n"
     ]
    },
    {
     "name": "stdout",
     "output_type": "stream",
     "text": [
      "Predict url:https://tfserving-cifar10-predictor-kserve-demo.apps.aliok-c099.serverless.devcluster.openshift.com/v1/models/tfserving-cifar10:predict\n"
     ]
    },
    {
     "name": "stderr",
     "output_type": "stream",
     "text": [
      "/Users/aliok/script/yaml/data-science/data-science/drift-detection/lib/python3.9/site-packages/urllib3/connectionpool.py:1056: InsecureRequestWarning: Unverified HTTPS request is being made to host 'tfserving-cifar10-predictor-kserve-demo.apps.aliok-c099.serverless.devcluster.openshift.com'. Adding certificate verification is strongly advised. See: https://urllib3.readthedocs.io/en/1.26.x/advanced-usage.html#ssl-warnings\n",
      "  warnings.warn(\n"
     ]
    },
    {
     "name": "stdout",
     "output_type": "stream",
     "text": [
      "Predict url:https://tfserving-cifar10-predictor-kserve-demo.apps.aliok-c099.serverless.devcluster.openshift.com/v1/models/tfserving-cifar10:predict\n"
     ]
    },
    {
     "name": "stderr",
     "output_type": "stream",
     "text": [
      "/Users/aliok/script/yaml/data-science/data-science/drift-detection/lib/python3.9/site-packages/urllib3/connectionpool.py:1056: InsecureRequestWarning: Unverified HTTPS request is being made to host 'tfserving-cifar10-predictor-kserve-demo.apps.aliok-c099.serverless.devcluster.openshift.com'. Adding certificate verification is strongly advised. See: https://urllib3.readthedocs.io/en/1.26.x/advanced-usage.html#ssl-warnings\n",
      "  warnings.warn(\n"
     ]
    },
    {
     "name": "stdout",
     "output_type": "stream",
     "text": [
      "Predict url:https://tfserving-cifar10-predictor-kserve-demo.apps.aliok-c099.serverless.devcluster.openshift.com/v1/models/tfserving-cifar10:predict\n"
     ]
    },
    {
     "name": "stderr",
     "output_type": "stream",
     "text": [
      "/Users/aliok/script/yaml/data-science/data-science/drift-detection/lib/python3.9/site-packages/urllib3/connectionpool.py:1056: InsecureRequestWarning: Unverified HTTPS request is being made to host 'tfserving-cifar10-predictor-kserve-demo.apps.aliok-c099.serverless.devcluster.openshift.com'. Adding certificate verification is strongly advised. See: https://urllib3.readthedocs.io/en/1.26.x/advanced-usage.html#ssl-warnings\n",
      "  warnings.warn(\n"
     ]
    },
    {
     "name": "stdout",
     "output_type": "stream",
     "text": [
      "Predict url:https://tfserving-cifar10-predictor-kserve-demo.apps.aliok-c099.serverless.devcluster.openshift.com/v1/models/tfserving-cifar10:predict\n"
     ]
    },
    {
     "name": "stderr",
     "output_type": "stream",
     "text": [
      "/Users/aliok/script/yaml/data-science/data-science/drift-detection/lib/python3.9/site-packages/urllib3/connectionpool.py:1056: InsecureRequestWarning: Unverified HTTPS request is being made to host 'tfserving-cifar10-predictor-kserve-demo.apps.aliok-c099.serverless.devcluster.openshift.com'. Adding certificate verification is strongly advised. See: https://urllib3.readthedocs.io/en/1.26.x/advanced-usage.html#ssl-warnings\n",
      "  warnings.warn(\n"
     ]
    },
    {
     "name": "stdout",
     "output_type": "stream",
     "text": [
      "Predict url:https://tfserving-cifar10-predictor-kserve-demo.apps.aliok-c099.serverless.devcluster.openshift.com/v1/models/tfserving-cifar10:predict\n"
     ]
    },
    {
     "name": "stderr",
     "output_type": "stream",
     "text": [
      "/Users/aliok/script/yaml/data-science/data-science/drift-detection/lib/python3.9/site-packages/urllib3/connectionpool.py:1056: InsecureRequestWarning: Unverified HTTPS request is being made to host 'tfserving-cifar10-predictor-kserve-demo.apps.aliok-c099.serverless.devcluster.openshift.com'. Adding certificate verification is strongly advised. See: https://urllib3.readthedocs.io/en/1.26.x/advanced-usage.html#ssl-warnings\n",
      "  warnings.warn(\n"
     ]
    },
    {
     "name": "stdout",
     "output_type": "stream",
     "text": [
      "Predict url:https://tfserving-cifar10-predictor-kserve-demo.apps.aliok-c099.serverless.devcluster.openshift.com/v1/models/tfserving-cifar10:predict\n"
     ]
    },
    {
     "name": "stderr",
     "output_type": "stream",
     "text": [
      "/Users/aliok/script/yaml/data-science/data-science/drift-detection/lib/python3.9/site-packages/urllib3/connectionpool.py:1056: InsecureRequestWarning: Unverified HTTPS request is being made to host 'tfserving-cifar10-predictor-kserve-demo.apps.aliok-c099.serverless.devcluster.openshift.com'. Adding certificate verification is strongly advised. See: https://urllib3.readthedocs.io/en/1.26.x/advanced-usage.html#ssl-warnings\n",
      "  warnings.warn(\n"
     ]
    },
    {
     "name": "stdout",
     "output_type": "stream",
     "text": [
      "Predict url:https://tfserving-cifar10-predictor-kserve-demo.apps.aliok-c099.serverless.devcluster.openshift.com/v1/models/tfserving-cifar10:predict\n"
     ]
    },
    {
     "name": "stderr",
     "output_type": "stream",
     "text": [
      "/Users/aliok/script/yaml/data-science/data-science/drift-detection/lib/python3.9/site-packages/urllib3/connectionpool.py:1056: InsecureRequestWarning: Unverified HTTPS request is being made to host 'tfserving-cifar10-predictor-kserve-demo.apps.aliok-c099.serverless.devcluster.openshift.com'. Adding certificate verification is strongly advised. See: https://urllib3.readthedocs.io/en/1.26.x/advanced-usage.html#ssl-warnings\n",
      "  warnings.warn(\n"
     ]
    },
    {
     "name": "stdout",
     "output_type": "stream",
     "text": [
      "Predict url:https://tfserving-cifar10-predictor-kserve-demo.apps.aliok-c099.serverless.devcluster.openshift.com/v1/models/tfserving-cifar10:predict\n"
     ]
    },
    {
     "name": "stderr",
     "output_type": "stream",
     "text": [
      "/Users/aliok/script/yaml/data-science/data-science/drift-detection/lib/python3.9/site-packages/urllib3/connectionpool.py:1056: InsecureRequestWarning: Unverified HTTPS request is being made to host 'tfserving-cifar10-predictor-kserve-demo.apps.aliok-c099.serverless.devcluster.openshift.com'. Adding certificate verification is strongly advised. See: https://urllib3.readthedocs.io/en/1.26.x/advanced-usage.html#ssl-warnings\n",
      "  warnings.warn(\n"
     ]
    },
    {
     "name": "stdout",
     "output_type": "stream",
     "text": [
      "Predict url:https://tfserving-cifar10-predictor-kserve-demo.apps.aliok-c099.serverless.devcluster.openshift.com/v1/models/tfserving-cifar10:predict\n"
     ]
    },
    {
     "name": "stderr",
     "output_type": "stream",
     "text": [
      "/Users/aliok/script/yaml/data-science/data-science/drift-detection/lib/python3.9/site-packages/urllib3/connectionpool.py:1056: InsecureRequestWarning: Unverified HTTPS request is being made to host 'tfserving-cifar10-predictor-kserve-demo.apps.aliok-c099.serverless.devcluster.openshift.com'. Adding certificate verification is strongly advised. See: https://urllib3.readthedocs.io/en/1.26.x/advanced-usage.html#ssl-warnings\n",
      "  warnings.warn(\n"
     ]
    },
    {
     "name": "stdout",
     "output_type": "stream",
     "text": [
      "Predict url:https://tfserving-cifar10-predictor-kserve-demo.apps.aliok-c099.serverless.devcluster.openshift.com/v1/models/tfserving-cifar10:predict\n"
     ]
    },
    {
     "name": "stderr",
     "output_type": "stream",
     "text": [
      "/Users/aliok/script/yaml/data-science/data-science/drift-detection/lib/python3.9/site-packages/urllib3/connectionpool.py:1056: InsecureRequestWarning: Unverified HTTPS request is being made to host 'tfserving-cifar10-predictor-kserve-demo.apps.aliok-c099.serverless.devcluster.openshift.com'. Adding certificate verification is strongly advised. See: https://urllib3.readthedocs.io/en/1.26.x/advanced-usage.html#ssl-warnings\n",
      "  warnings.warn(\n"
     ]
    },
    {
     "name": "stdout",
     "output_type": "stream",
     "text": [
      "Predict url:https://tfserving-cifar10-predictor-kserve-demo.apps.aliok-c099.serverless.devcluster.openshift.com/v1/models/tfserving-cifar10:predict\n"
     ]
    },
    {
     "name": "stderr",
     "output_type": "stream",
     "text": [
      "/Users/aliok/script/yaml/data-science/data-science/drift-detection/lib/python3.9/site-packages/urllib3/connectionpool.py:1056: InsecureRequestWarning: Unverified HTTPS request is being made to host 'tfserving-cifar10-predictor-kserve-demo.apps.aliok-c099.serverless.devcluster.openshift.com'. Adding certificate verification is strongly advised. See: https://urllib3.readthedocs.io/en/1.26.x/advanced-usage.html#ssl-warnings\n",
      "  warnings.warn(\n"
     ]
    },
    {
     "name": "stdout",
     "output_type": "stream",
     "text": [
      "Predict url:https://tfserving-cifar10-predictor-kserve-demo.apps.aliok-c099.serverless.devcluster.openshift.com/v1/models/tfserving-cifar10:predict\n"
     ]
    },
    {
     "name": "stderr",
     "output_type": "stream",
     "text": [
      "/Users/aliok/script/yaml/data-science/data-science/drift-detection/lib/python3.9/site-packages/urllib3/connectionpool.py:1056: InsecureRequestWarning: Unverified HTTPS request is being made to host 'tfserving-cifar10-predictor-kserve-demo.apps.aliok-c099.serverless.devcluster.openshift.com'. Adding certificate verification is strongly advised. See: https://urllib3.readthedocs.io/en/1.26.x/advanced-usage.html#ssl-warnings\n",
      "  warnings.warn(\n"
     ]
    },
    {
     "name": "stdout",
     "output_type": "stream",
     "text": [
      "Predict url:https://tfserving-cifar10-predictor-kserve-demo.apps.aliok-c099.serverless.devcluster.openshift.com/v1/models/tfserving-cifar10:predict\n"
     ]
    },
    {
     "name": "stderr",
     "output_type": "stream",
     "text": [
      "/Users/aliok/script/yaml/data-science/data-science/drift-detection/lib/python3.9/site-packages/urllib3/connectionpool.py:1056: InsecureRequestWarning: Unverified HTTPS request is being made to host 'tfserving-cifar10-predictor-kserve-demo.apps.aliok-c099.serverless.devcluster.openshift.com'. Adding certificate verification is strongly advised. See: https://urllib3.readthedocs.io/en/1.26.x/advanced-usage.html#ssl-warnings\n",
      "  warnings.warn(\n"
     ]
    },
    {
     "name": "stdout",
     "output_type": "stream",
     "text": [
      "Predict url:https://tfserving-cifar10-predictor-kserve-demo.apps.aliok-c099.serverless.devcluster.openshift.com/v1/models/tfserving-cifar10:predict\n"
     ]
    },
    {
     "name": "stderr",
     "output_type": "stream",
     "text": [
      "/Users/aliok/script/yaml/data-science/data-science/drift-detection/lib/python3.9/site-packages/urllib3/connectionpool.py:1056: InsecureRequestWarning: Unverified HTTPS request is being made to host 'tfserving-cifar10-predictor-kserve-demo.apps.aliok-c099.serverless.devcluster.openshift.com'. Adding certificate verification is strongly advised. See: https://urllib3.readthedocs.io/en/1.26.x/advanced-usage.html#ssl-warnings\n",
      "  warnings.warn(\n"
     ]
    },
    {
     "name": "stdout",
     "output_type": "stream",
     "text": [
      "Predict url:https://tfserving-cifar10-predictor-kserve-demo.apps.aliok-c099.serverless.devcluster.openshift.com/v1/models/tfserving-cifar10:predict\n"
     ]
    },
    {
     "name": "stderr",
     "output_type": "stream",
     "text": [
      "/Users/aliok/script/yaml/data-science/data-science/drift-detection/lib/python3.9/site-packages/urllib3/connectionpool.py:1056: InsecureRequestWarning: Unverified HTTPS request is being made to host 'tfserving-cifar10-predictor-kserve-demo.apps.aliok-c099.serverless.devcluster.openshift.com'. Adding certificate verification is strongly advised. See: https://urllib3.readthedocs.io/en/1.26.x/advanced-usage.html#ssl-warnings\n",
      "  warnings.warn(\n"
     ]
    },
    {
     "name": "stdout",
     "output_type": "stream",
     "text": [
      "Predict url:https://tfserving-cifar10-predictor-kserve-demo.apps.aliok-c099.serverless.devcluster.openshift.com/v1/models/tfserving-cifar10:predict\n"
     ]
    },
    {
     "name": "stderr",
     "output_type": "stream",
     "text": [
      "/Users/aliok/script/yaml/data-science/data-science/drift-detection/lib/python3.9/site-packages/urllib3/connectionpool.py:1056: InsecureRequestWarning: Unverified HTTPS request is being made to host 'tfserving-cifar10-predictor-kserve-demo.apps.aliok-c099.serverless.devcluster.openshift.com'. Adding certificate verification is strongly advised. See: https://urllib3.readthedocs.io/en/1.26.x/advanced-usage.html#ssl-warnings\n",
      "  warnings.warn(\n"
     ]
    },
    {
     "name": "stdout",
     "output_type": "stream",
     "text": [
      "Predict url:https://tfserving-cifar10-predictor-kserve-demo.apps.aliok-c099.serverless.devcluster.openshift.com/v1/models/tfserving-cifar10:predict\n"
     ]
    },
    {
     "name": "stderr",
     "output_type": "stream",
     "text": [
      "/Users/aliok/script/yaml/data-science/data-science/drift-detection/lib/python3.9/site-packages/urllib3/connectionpool.py:1056: InsecureRequestWarning: Unverified HTTPS request is being made to host 'tfserving-cifar10-predictor-kserve-demo.apps.aliok-c099.serverless.devcluster.openshift.com'. Adding certificate verification is strongly advised. See: https://urllib3.readthedocs.io/en/1.26.x/advanced-usage.html#ssl-warnings\n",
      "  warnings.warn(\n"
     ]
    },
    {
     "name": "stdout",
     "output_type": "stream",
     "text": [
      "Predict url:https://tfserving-cifar10-predictor-kserve-demo.apps.aliok-c099.serverless.devcluster.openshift.com/v1/models/tfserving-cifar10:predict\n"
     ]
    },
    {
     "name": "stderr",
     "output_type": "stream",
     "text": [
      "/Users/aliok/script/yaml/data-science/data-science/drift-detection/lib/python3.9/site-packages/urllib3/connectionpool.py:1056: InsecureRequestWarning: Unverified HTTPS request is being made to host 'tfserving-cifar10-predictor-kserve-demo.apps.aliok-c099.serverless.devcluster.openshift.com'. Adding certificate verification is strongly advised. See: https://urllib3.readthedocs.io/en/1.26.x/advanced-usage.html#ssl-warnings\n",
      "  warnings.warn(\n"
     ]
    },
    {
     "name": "stdout",
     "output_type": "stream",
     "text": [
      "Predict url:https://tfserving-cifar10-predictor-kserve-demo.apps.aliok-c099.serverless.devcluster.openshift.com/v1/models/tfserving-cifar10:predict\n"
     ]
    },
    {
     "name": "stderr",
     "output_type": "stream",
     "text": [
      "/Users/aliok/script/yaml/data-science/data-science/drift-detection/lib/python3.9/site-packages/urllib3/connectionpool.py:1056: InsecureRequestWarning: Unverified HTTPS request is being made to host 'tfserving-cifar10-predictor-kserve-demo.apps.aliok-c099.serverless.devcluster.openshift.com'. Adding certificate verification is strongly advised. See: https://urllib3.readthedocs.io/en/1.26.x/advanced-usage.html#ssl-warnings\n",
      "  warnings.warn(\n"
     ]
    },
    {
     "name": "stdout",
     "output_type": "stream",
     "text": [
      "Predict url:https://tfserving-cifar10-predictor-kserve-demo.apps.aliok-c099.serverless.devcluster.openshift.com/v1/models/tfserving-cifar10:predict\n"
     ]
    },
    {
     "name": "stderr",
     "output_type": "stream",
     "text": [
      "/Users/aliok/script/yaml/data-science/data-science/drift-detection/lib/python3.9/site-packages/urllib3/connectionpool.py:1056: InsecureRequestWarning: Unverified HTTPS request is being made to host 'tfserving-cifar10-predictor-kserve-demo.apps.aliok-c099.serverless.devcluster.openshift.com'. Adding certificate verification is strongly advised. See: https://urllib3.readthedocs.io/en/1.26.x/advanced-usage.html#ssl-warnings\n",
      "  warnings.warn(\n"
     ]
    },
    {
     "name": "stdout",
     "output_type": "stream",
     "text": [
      "Predict url:https://tfserving-cifar10-predictor-kserve-demo.apps.aliok-c099.serverless.devcluster.openshift.com/v1/models/tfserving-cifar10:predict\n"
     ]
    },
    {
     "name": "stderr",
     "output_type": "stream",
     "text": [
      "/Users/aliok/script/yaml/data-science/data-science/drift-detection/lib/python3.9/site-packages/urllib3/connectionpool.py:1056: InsecureRequestWarning: Unverified HTTPS request is being made to host 'tfserving-cifar10-predictor-kserve-demo.apps.aliok-c099.serverless.devcluster.openshift.com'. Adding certificate verification is strongly advised. See: https://urllib3.readthedocs.io/en/1.26.x/advanced-usage.html#ssl-warnings\n",
      "  warnings.warn(\n"
     ]
    },
    {
     "name": "stdout",
     "output_type": "stream",
     "text": [
      "Predict url:https://tfserving-cifar10-predictor-kserve-demo.apps.aliok-c099.serverless.devcluster.openshift.com/v1/models/tfserving-cifar10:predict\n"
     ]
    },
    {
     "name": "stderr",
     "output_type": "stream",
     "text": [
      "/Users/aliok/script/yaml/data-science/data-science/drift-detection/lib/python3.9/site-packages/urllib3/connectionpool.py:1056: InsecureRequestWarning: Unverified HTTPS request is being made to host 'tfserving-cifar10-predictor-kserve-demo.apps.aliok-c099.serverless.devcluster.openshift.com'. Adding certificate verification is strongly advised. See: https://urllib3.readthedocs.io/en/1.26.x/advanced-usage.html#ssl-warnings\n",
      "  warnings.warn(\n"
     ]
    },
    {
     "name": "stdout",
     "output_type": "stream",
     "text": [
      "Predict url:https://tfserving-cifar10-predictor-kserve-demo.apps.aliok-c099.serverless.devcluster.openshift.com/v1/models/tfserving-cifar10:predict\n"
     ]
    },
    {
     "name": "stderr",
     "output_type": "stream",
     "text": [
      "/Users/aliok/script/yaml/data-science/data-science/drift-detection/lib/python3.9/site-packages/urllib3/connectionpool.py:1056: InsecureRequestWarning: Unverified HTTPS request is being made to host 'tfserving-cifar10-predictor-kserve-demo.apps.aliok-c099.serverless.devcluster.openshift.com'. Adding certificate verification is strongly advised. See: https://urllib3.readthedocs.io/en/1.26.x/advanced-usage.html#ssl-warnings\n",
      "  warnings.warn(\n"
     ]
    },
    {
     "name": "stdout",
     "output_type": "stream",
     "text": [
      "Predict url:https://tfserving-cifar10-predictor-kserve-demo.apps.aliok-c099.serverless.devcluster.openshift.com/v1/models/tfserving-cifar10:predict\n"
     ]
    },
    {
     "name": "stderr",
     "output_type": "stream",
     "text": [
      "/Users/aliok/script/yaml/data-science/data-science/drift-detection/lib/python3.9/site-packages/urllib3/connectionpool.py:1056: InsecureRequestWarning: Unverified HTTPS request is being made to host 'tfserving-cifar10-predictor-kserve-demo.apps.aliok-c099.serverless.devcluster.openshift.com'. Adding certificate verification is strongly advised. See: https://urllib3.readthedocs.io/en/1.26.x/advanced-usage.html#ssl-warnings\n",
      "  warnings.warn(\n"
     ]
    },
    {
     "name": "stdout",
     "output_type": "stream",
     "text": [
      "Predict url:https://tfserving-cifar10-predictor-kserve-demo.apps.aliok-c099.serverless.devcluster.openshift.com/v1/models/tfserving-cifar10:predict\n"
     ]
    },
    {
     "name": "stderr",
     "output_type": "stream",
     "text": [
      "/Users/aliok/script/yaml/data-science/data-science/drift-detection/lib/python3.9/site-packages/urllib3/connectionpool.py:1056: InsecureRequestWarning: Unverified HTTPS request is being made to host 'tfserving-cifar10-predictor-kserve-demo.apps.aliok-c099.serverless.devcluster.openshift.com'. Adding certificate verification is strongly advised. See: https://urllib3.readthedocs.io/en/1.26.x/advanced-usage.html#ssl-warnings\n",
      "  warnings.warn(\n"
     ]
    },
    {
     "name": "stdout",
     "output_type": "stream",
     "text": [
      "Predict url:https://tfserving-cifar10-predictor-kserve-demo.apps.aliok-c099.serverless.devcluster.openshift.com/v1/models/tfserving-cifar10:predict\n"
     ]
    },
    {
     "name": "stderr",
     "output_type": "stream",
     "text": [
      "/Users/aliok/script/yaml/data-science/data-science/drift-detection/lib/python3.9/site-packages/urllib3/connectionpool.py:1056: InsecureRequestWarning: Unverified HTTPS request is being made to host 'tfserving-cifar10-predictor-kserve-demo.apps.aliok-c099.serverless.devcluster.openshift.com'. Adding certificate verification is strongly advised. See: https://urllib3.readthedocs.io/en/1.26.x/advanced-usage.html#ssl-warnings\n",
      "  warnings.warn(\n"
     ]
    },
    {
     "name": "stdout",
     "output_type": "stream",
     "text": [
      "Predict url:https://tfserving-cifar10-predictor-kserve-demo.apps.aliok-c099.serverless.devcluster.openshift.com/v1/models/tfserving-cifar10:predict\n"
     ]
    },
    {
     "name": "stderr",
     "output_type": "stream",
     "text": [
      "/Users/aliok/script/yaml/data-science/data-science/drift-detection/lib/python3.9/site-packages/urllib3/connectionpool.py:1056: InsecureRequestWarning: Unverified HTTPS request is being made to host 'tfserving-cifar10-predictor-kserve-demo.apps.aliok-c099.serverless.devcluster.openshift.com'. Adding certificate verification is strongly advised. See: https://urllib3.readthedocs.io/en/1.26.x/advanced-usage.html#ssl-warnings\n",
      "  warnings.warn(\n"
     ]
    },
    {
     "name": "stdout",
     "output_type": "stream",
     "text": [
      "Predict url:https://tfserving-cifar10-predictor-kserve-demo.apps.aliok-c099.serverless.devcluster.openshift.com/v1/models/tfserving-cifar10:predict\n"
     ]
    },
    {
     "name": "stderr",
     "output_type": "stream",
     "text": [
      "/Users/aliok/script/yaml/data-science/data-science/drift-detection/lib/python3.9/site-packages/urllib3/connectionpool.py:1056: InsecureRequestWarning: Unverified HTTPS request is being made to host 'tfserving-cifar10-predictor-kserve-demo.apps.aliok-c099.serverless.devcluster.openshift.com'. Adding certificate verification is strongly advised. See: https://urllib3.readthedocs.io/en/1.26.x/advanced-usage.html#ssl-warnings\n",
      "  warnings.warn(\n"
     ]
    },
    {
     "name": "stdout",
     "output_type": "stream",
     "text": [
      "Predict url:https://tfserving-cifar10-predictor-kserve-demo.apps.aliok-c099.serverless.devcluster.openshift.com/v1/models/tfserving-cifar10:predict\n"
     ]
    },
    {
     "name": "stderr",
     "output_type": "stream",
     "text": [
      "/Users/aliok/script/yaml/data-science/data-science/drift-detection/lib/python3.9/site-packages/urllib3/connectionpool.py:1056: InsecureRequestWarning: Unverified HTTPS request is being made to host 'tfserving-cifar10-predictor-kserve-demo.apps.aliok-c099.serverless.devcluster.openshift.com'. Adding certificate verification is strongly advised. See: https://urllib3.readthedocs.io/en/1.26.x/advanced-usage.html#ssl-warnings\n",
      "  warnings.warn(\n"
     ]
    },
    {
     "name": "stdout",
     "output_type": "stream",
     "text": [
      "Predict url:https://tfserving-cifar10-predictor-kserve-demo.apps.aliok-c099.serverless.devcluster.openshift.com/v1/models/tfserving-cifar10:predict\n"
     ]
    },
    {
     "name": "stderr",
     "output_type": "stream",
     "text": [
      "/Users/aliok/script/yaml/data-science/data-science/drift-detection/lib/python3.9/site-packages/urllib3/connectionpool.py:1056: InsecureRequestWarning: Unverified HTTPS request is being made to host 'tfserving-cifar10-predictor-kserve-demo.apps.aliok-c099.serverless.devcluster.openshift.com'. Adding certificate verification is strongly advised. See: https://urllib3.readthedocs.io/en/1.26.x/advanced-usage.html#ssl-warnings\n",
      "  warnings.warn(\n"
     ]
    },
    {
     "name": "stdout",
     "output_type": "stream",
     "text": [
      "Predict url:https://tfserving-cifar10-predictor-kserve-demo.apps.aliok-c099.serverless.devcluster.openshift.com/v1/models/tfserving-cifar10:predict\n"
     ]
    },
    {
     "name": "stderr",
     "output_type": "stream",
     "text": [
      "/Users/aliok/script/yaml/data-science/data-science/drift-detection/lib/python3.9/site-packages/urllib3/connectionpool.py:1056: InsecureRequestWarning: Unverified HTTPS request is being made to host 'tfserving-cifar10-predictor-kserve-demo.apps.aliok-c099.serverless.devcluster.openshift.com'. Adding certificate verification is strongly advised. See: https://urllib3.readthedocs.io/en/1.26.x/advanced-usage.html#ssl-warnings\n",
      "  warnings.warn(\n"
     ]
    },
    {
     "name": "stdout",
     "output_type": "stream",
     "text": [
      "Predict url:https://tfserving-cifar10-predictor-kserve-demo.apps.aliok-c099.serverless.devcluster.openshift.com/v1/models/tfserving-cifar10:predict\n"
     ]
    },
    {
     "name": "stderr",
     "output_type": "stream",
     "text": [
      "/Users/aliok/script/yaml/data-science/data-science/drift-detection/lib/python3.9/site-packages/urllib3/connectionpool.py:1056: InsecureRequestWarning: Unverified HTTPS request is being made to host 'tfserving-cifar10-predictor-kserve-demo.apps.aliok-c099.serverless.devcluster.openshift.com'. Adding certificate verification is strongly advised. See: https://urllib3.readthedocs.io/en/1.26.x/advanced-usage.html#ssl-warnings\n",
      "  warnings.warn(\n"
     ]
    },
    {
     "name": "stdout",
     "output_type": "stream",
     "text": [
      "Predict url:https://tfserving-cifar10-predictor-kserve-demo.apps.aliok-c099.serverless.devcluster.openshift.com/v1/models/tfserving-cifar10:predict\n"
     ]
    },
    {
     "name": "stderr",
     "output_type": "stream",
     "text": [
      "/Users/aliok/script/yaml/data-science/data-science/drift-detection/lib/python3.9/site-packages/urllib3/connectionpool.py:1056: InsecureRequestWarning: Unverified HTTPS request is being made to host 'tfserving-cifar10-predictor-kserve-demo.apps.aliok-c099.serverless.devcluster.openshift.com'. Adding certificate verification is strongly advised. See: https://urllib3.readthedocs.io/en/1.26.x/advanced-usage.html#ssl-warnings\n",
      "  warnings.warn(\n"
     ]
    },
    {
     "name": "stdout",
     "output_type": "stream",
     "text": [
      "Predict url:https://tfserving-cifar10-predictor-kserve-demo.apps.aliok-c099.serverless.devcluster.openshift.com/v1/models/tfserving-cifar10:predict\n"
     ]
    },
    {
     "name": "stderr",
     "output_type": "stream",
     "text": [
      "/Users/aliok/script/yaml/data-science/data-science/drift-detection/lib/python3.9/site-packages/urllib3/connectionpool.py:1056: InsecureRequestWarning: Unverified HTTPS request is being made to host 'tfserving-cifar10-predictor-kserve-demo.apps.aliok-c099.serverless.devcluster.openshift.com'. Adding certificate verification is strongly advised. See: https://urllib3.readthedocs.io/en/1.26.x/advanced-usage.html#ssl-warnings\n",
      "  warnings.warn(\n"
     ]
    },
    {
     "name": "stdout",
     "output_type": "stream",
     "text": [
      "Predict url:https://tfserving-cifar10-predictor-kserve-demo.apps.aliok-c099.serverless.devcluster.openshift.com/v1/models/tfserving-cifar10:predict\n"
     ]
    },
    {
     "name": "stderr",
     "output_type": "stream",
     "text": [
      "/Users/aliok/script/yaml/data-science/data-science/drift-detection/lib/python3.9/site-packages/urllib3/connectionpool.py:1056: InsecureRequestWarning: Unverified HTTPS request is being made to host 'tfserving-cifar10-predictor-kserve-demo.apps.aliok-c099.serverless.devcluster.openshift.com'. Adding certificate verification is strongly advised. See: https://urllib3.readthedocs.io/en/1.26.x/advanced-usage.html#ssl-warnings\n",
      "  warnings.warn(\n"
     ]
    }
   ],
   "source": [
    "for i in tqdm(range(0,5000,100)):\n",
    "    X = X_corr[i:i+100]\n",
    "    predict(X)"
   ]
  },
  {
   "cell_type": "code",
   "execution_count": null,
   "metadata": {},
   "outputs": [],
   "source": []
  }
 ],
 "metadata": {
  "kernelspec": {
   "display_name": "Python 3 (ipykernel)",
   "language": "python",
   "name": "python3"
  },
  "language_info": {
   "codemirror_mode": {
    "name": "ipython",
    "version": 3
   },
   "file_extension": ".py",
   "mimetype": "text/x-python",
   "name": "python",
   "nbconvert_exporter": "python",
   "pygments_lexer": "ipython3",
   "version": "3.9.6"
  }
 },
 "nbformat": 4,
 "nbformat_minor": 1
}
